{
 "cells": [
  {
   "cell_type": "markdown",
   "metadata": {},
   "source": [
    "# Lets make a calculator:"
   ]
  },
  {
   "cell_type": "code",
   "execution_count": 22,
   "metadata": {},
   "outputs": [
    {
     "name": "stdout",
     "output_type": "stream",
     "text": [
      "press 1 for addition\n",
      "press 2 for subtraction\n",
      "press 3 for multiplication\n",
      "press 4 for division\n",
      "Enter a choice: 4\n",
      "Enter the first number: 20\n",
      "Enter the second number: 5\n",
      "The division is:  4.0\n"
     ]
    }
   ],
   "source": [
    "#create an addition function\n",
    "def addition(a, b):\n",
    "    return print(\"The addition is: \",a + b)\n",
    "#create a subtraction function\n",
    "def subtraction(a, b):\n",
    "    return print(\"The subtraction is: \",a - b)\n",
    "#create a multiplication function\n",
    "def multiplication(a, b):\n",
    "    return print(\"The multiplication is: \",a * b)\n",
    "#create a division function\n",
    "def division(a, b):\n",
    "    return print(\"The division is: \",a/b)\n",
    "#select which operation do you want to perform\n",
    "print(\"press 1 for addition\")\n",
    "print(\"press 2 for subtraction\")\n",
    "print(\"press 3 for multiplication\")\n",
    "print(\"press 4 for division\")\n",
    "choice = int(input(\"Enter a choice: \"))\n",
    "#take two inputs from the users:\n",
    "if choice in [1, 2, 3, 4]:\n",
    "    num1 = float(input(\"Enter the first number: \"))\n",
    "    num2 = float(input(\"Enter the second number: \"))\n",
    "#dicision making \n",
    "    if choice == 1:\n",
    "        addition(num1, num2)\n",
    "    elif choice == 2:\n",
    "        subtraction(num1, num2)\n",
    "    elif choice == 3:\n",
    "        multiplication(num1, num2)\n",
    "    elif choice == 4:\n",
    "        division(num1, num2)\n",
    "else:\n",
    "    print(\"Please select a correct choice.\")"
   ]
  },
  {
   "cell_type": "code",
   "execution_count": 14,
   "metadata": {},
   "outputs": [],
   "source": []
  },
  {
   "cell_type": "code",
   "execution_count": null,
   "metadata": {},
   "outputs": [],
   "source": []
  }
 ],
 "metadata": {
  "kernelspec": {
   "display_name": "Python 3",
   "language": "python",
   "name": "python3"
  },
  "language_info": {
   "codemirror_mode": {
    "name": "ipython",
    "version": 3
   },
   "file_extension": ".py",
   "mimetype": "text/x-python",
   "name": "python",
   "nbconvert_exporter": "python",
   "pygments_lexer": "ipython3",
   "version": "3.8.5"
  }
 },
 "nbformat": 4,
 "nbformat_minor": 4
}
