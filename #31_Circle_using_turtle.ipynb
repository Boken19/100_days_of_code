{
 "cells": [
  {
   "cell_type": "code",
   "execution_count": 1,
   "metadata": {},
   "outputs": [],
   "source": [
    "# import package\n",
    "import turtle \n",
    "  \n",
    "# method to raw pattern\n",
    "# of circle with rad radius\n",
    "def draw(rad):\n",
    "      \n",
    "    # draw circle\n",
    "    turtle.circle(rad)\n",
    "      \n",
    "    # set the position by using setpos()\n",
    "    turtle.up()\n",
    "    turtle.setpos(0,-rad)\n",
    "    turtle.down()\n",
    "#loop for draw circle\n",
    "for i in range(5):\n",
    "    draw(20+20*i)\n",
    "    \n",
    "turtle.mainloop()"
   ]
  },
  {
   "cell_type": "code",
   "execution_count": null,
   "metadata": {},
   "outputs": [],
   "source": []
  }
 ],
 "metadata": {
  "kernelspec": {
   "display_name": "Python 3",
   "language": "python",
   "name": "python3"
  },
  "language_info": {
   "codemirror_mode": {
    "name": "ipython",
    "version": 3
   },
   "file_extension": ".py",
   "mimetype": "text/x-python",
   "name": "python",
   "nbconvert_exporter": "python",
   "pygments_lexer": "ipython3",
   "version": "3.8.5"
  }
 },
 "nbformat": 4,
 "nbformat_minor": 4
}
