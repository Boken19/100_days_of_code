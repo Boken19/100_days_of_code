{
 "cells": [
  {
   "cell_type": "markdown",
   "metadata": {},
   "source": [
    "# Data Cleaning"
   ]
  },
  {
   "cell_type": "markdown",
   "metadata": {},
   "source": [
    "## Fixing Rows and Columns"
   ]
  },
  {
   "cell_type": "markdown",
   "metadata": {},
   "source": [
    "**Checklist for fixing rows:**\n",
    "\n",
    "- Delete summary rows: Total and Subtotal rows\n",
    "\n",
    "- Delete incorrect rows: Header row and footer row\n",
    "\n",
    "- Delete extra rows: Column number, indicators, blank rows, page number\n",
    "\n",
    " \n",
    "\n",
    "**Checklist for fixing columns:**\n",
    "\n",
    "if needed, merge columns for creating unique identifiers, for example, merge the columns State and City into the column Full Address.\n",
    "\n",
    "- Split columns to get more data: Split the Address column to get State and City columns to analyse each separately. \n",
    "\n",
    "- Add column names: Add column names if missing.\n",
    "\n",
    "- Rename columns consistently: Abbreviations, encoded columns.\n",
    "\n",
    "- Delete columns: Delete unnecessary columns.\n",
    "\n",
    "- Align misaligned columns: The data set may have shifted columns, which you need to align correctly."
   ]
  },
  {
   "cell_type": "markdown",
   "metadata": {},
   "source": [
    "- For skipping rows while reading .csv file use pandas.read_csv('filename.csv', skiprows = N) where N is no. of rows."
   ]
  },
  {
   "attachments": {},
   "cell_type": "markdown",
   "metadata": {},
   "source": [
    "**Checlist for missing values:**\n",
    "- Disguised missing values: Set values as missing values\n",
    "- Significant number of Missing values in a row/column: Delete rows, columns\n",
    "- Partial missing values: Fill the missing values with the correct values"
   ]
  },
  {
   "cell_type": "code",
   "execution_count": null,
   "metadata": {},
   "outputs": [],
   "source": []
  }
 ],
 "metadata": {
  "kernelspec": {
   "display_name": "Python 3",
   "language": "python",
   "name": "python3"
  },
  "language_info": {
   "codemirror_mode": {
    "name": "ipython",
    "version": 3
   },
   "file_extension": ".py",
   "mimetype": "text/x-python",
   "name": "python",
   "nbconvert_exporter": "python",
   "pygments_lexer": "ipython3",
   "version": "3.8.5"
  }
 },
 "nbformat": 4,
 "nbformat_minor": 4
}
