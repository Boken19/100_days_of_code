{
 "cells": [
  {
   "cell_type": "markdown",
   "metadata": {},
   "source": [
    "### Nested Logic"
   ]
  },
  {
   "cell_type": "markdown",
   "metadata": {},
   "source": [
    "**Your local library needs your help! Given the expected and actual return dates for a library book, create a program that calculates the fine (if any). The fee structure is as follows:**\n",
    "\n",
    "1. If the book is returned on or before the expected return date, no fine will be charged (i.e.: fine = 0).\n",
    "2. If the book is returned after the expected return day but still within the same calendar month and year as the expected return date, fine = 15 Rs x (The no. of days late).\n",
    "3. If the book is returned after the expected return month but still within the same calendar year as the expected return date, the fine = 500 Rs x (The no. of months late).\n",
    "4. If the book is returned after the calendar year in which it was expected, there is a fixed fine of 10000 Rs."
   ]
  },
  {
   "cell_type": "code",
   "execution_count": 2,
   "metadata": {},
   "outputs": [
    {
     "name": "stdout",
     "output_type": "stream",
     "text": [
      "Enter the returning date: 9 6 2015\n",
      "Enter the due date: 6 6 2015\n",
      "45 Rs fine.\n"
     ]
    }
   ],
   "source": [
    "rd, rm, ry = list(map(int, input('Enter the returning date: ').split()))\n",
    "dd, dm, dy = list(map(int, input('Enter the due date: ').split()))\n",
    "# We can use tuples in conditions like this, it will compare indexes one by one.\n",
    "if (ry, rm, rd) <= (dy, dm, dd):\n",
    "    print(f'0 Rs fine.')\n",
    "elif (ry, rm) == (dy, dm):\n",
    "    print(f'{15* (rd - dd)} Rs fine.')\n",
    "elif ry == dy:\n",
    "    print(f'{500* (rm - dm)} Rs fine.')\n",
    "else:\n",
    "    print('10000 Rs fine.')"
   ]
  },
  {
   "cell_type": "code",
   "execution_count": null,
   "metadata": {},
   "outputs": [],
   "source": []
  }
 ],
 "metadata": {
  "kernelspec": {
   "display_name": "Python 3",
   "language": "python",
   "name": "python3"
  },
  "language_info": {
   "codemirror_mode": {
    "name": "ipython",
    "version": 3
   },
   "file_extension": ".py",
   "mimetype": "text/x-python",
   "name": "python",
   "nbconvert_exporter": "python",
   "pygments_lexer": "ipython3",
   "version": "3.8.5"
  }
 },
 "nbformat": 4,
 "nbformat_minor": 4
}
