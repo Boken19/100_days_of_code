{
 "cells": [
  {
   "cell_type": "markdown",
   "metadata": {},
   "source": [
    "# containment zone investigation app"
   ]
  },
  {
   "cell_type": "code",
   "execution_count": 36,
   "metadata": {},
   "outputs": [
    {
     "name": "stdout",
     "output_type": "stream",
     "text": [
      "total zones available 19035\n",
      "Total Cities:  3009\n",
      "Total pincodes:  19035\n",
      "please enter a pincode for delivery! 302017\n",
      "This pincode 302017 exists.\n",
      "This pincode 302017 exists and details are Jaipur,Rajasthan,Lockdown-Essentials Only\n"
     ]
    }
   ],
   "source": [
    "class ContainmentZones:\n",
    "    def __init__(self,fp):\n",
    "        self.filepath = fp\n",
    "            \n",
    "    def loadData(self):\n",
    "        #let us load the data\n",
    "        self.zones = open(self.filepath).readlines()\n",
    "        del self.zones[0]\n",
    "        \n",
    "    def getTotalZones(self):\n",
    "        #total number of zones\n",
    "        totalZones = len(self.zones)\n",
    "        print('total zones available {}'.format(totalZones))\n",
    "        \n",
    "    def getCitySummary(self):\n",
    "        self.cities = []\n",
    "        for info in self.zones:\n",
    "            self.cities.append(info.split(',')[0])\n",
    "        self.city_list = list(set(self.cities))\n",
    "        print('Total Cities: ',len(self.city_list))\n",
    "        \n",
    "    def getPincodesSummary(self):\n",
    "        self.pincodes = []\n",
    "        for i in self.zones:\n",
    "            self.pincodes.append(i.split(',')[2])\n",
    "        print('Total pincodes: ',len(self.pincodes))\n",
    "    \n",
    "    def pinCodeValidator(self):\n",
    "        self.userpin = input('please enter a pincode for delivery! ')\n",
    "        if self.userpin in self.pincodes:\n",
    "            print('This pincode {} exists.'.format(self.userpin))\n",
    "        else:\n",
    "            print('The pincode does not exist')\n",
    "        \n",
    "    def pinCodeValidator2(self):\n",
    "        self.pin_db = {}\n",
    "        for zone in self.zones:\n",
    "            details = zone.split(',')\n",
    "            self.pin_db[details[2]] = '{},{},{}'.format(details[0],details[1],details[3].replace('\\n',''))\n",
    "        if self.userpin in self.pin_db:\n",
    "            print('This pincode {} exists and details are {}'.format(self.userpin, self.pin_db[self.userpin]))\n",
    "        else:\n",
    "            print('The pincode does not exist')           \n",
    "        \n",
    "            \n",
    "cz = ContainmentZones('restricted-area.csv')\n",
    "cz.loadData()\n",
    "cz.getTotalZones()\n",
    "cz.getCitySummary()\n",
    "cz.getPincodesSummary()\n",
    "cz.pinCodeValidator()\n",
    "cz.pinCodeValidator2()"
   ]
  },
  {
   "cell_type": "code",
   "execution_count": null,
   "metadata": {},
   "outputs": [],
   "source": []
  }
 ],
 "metadata": {
  "kernelspec": {
   "display_name": "Python 3",
   "language": "python",
   "name": "python3"
  },
  "language_info": {
   "codemirror_mode": {
    "name": "ipython",
    "version": 3
   },
   "file_extension": ".py",
   "mimetype": "text/x-python",
   "name": "python",
   "nbconvert_exporter": "python",
   "pygments_lexer": "ipython3",
   "version": "3.8.5"
  }
 },
 "nbformat": 4,
 "nbformat_minor": 4
}
