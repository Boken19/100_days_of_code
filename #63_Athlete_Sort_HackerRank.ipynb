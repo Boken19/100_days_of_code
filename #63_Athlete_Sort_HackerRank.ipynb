{
 "cells": [
  {
   "cell_type": "markdown",
   "metadata": {},
   "source": [
    "**You are given a spreadsheet that contains a list of  athletes and their details (such as age, height, weight and so on). \n",
    "You are required to sort the data based on the th attribute and print the final resulting table.**"
   ]
  },
  {
   "cell_type": "code",
   "execution_count": 4,
   "metadata": {},
   "outputs": [
    {
     "name": "stdout",
     "output_type": "stream",
     "text": [
      "Enter no. of Athletes and enter how many attributes each player has: 5 3\n",
      "Enter 1 player details: 10 2 5\n",
      "Enter 2 player details: 7 1 0\n",
      "Enter 3 player details: 9 9 9\n",
      "Enter 4 player details: 1 23 12\n",
      "Enter 5 player details: 6 5 9\n",
      "By which attribute you want to sort: 1\n",
      "7 1 0\n",
      "10 2 5\n",
      "6 5 9\n",
      "9 9 9\n",
      "1 23 12\n"
     ]
    }
   ],
   "source": [
    "nm = input('Enter no. of Athletes and enter how many attributes each player has: ').split()\n",
    "\n",
    "n = int(nm[0])\n",
    "m = int(nm[1])\n",
    "\n",
    "arr = []\n",
    "\n",
    "for j in range(n):\n",
    "    arr.append(list(map(int, input(f'Enter {j+1} player details: ').rstrip().split())))\n",
    "\n",
    "k = int(input('By which attribute you want to sort: '))\n",
    "arr.sort(key = lambda x: x[k])\n",
    "for i in arr:\n",
    "    print(*i) #To print more than one object"
   ]
  },
  {
   "cell_type": "code",
   "execution_count": null,
   "metadata": {},
   "outputs": [],
   "source": []
  }
 ],
 "metadata": {
  "kernelspec": {
   "display_name": "Python 3",
   "language": "python",
   "name": "python3"
  },
  "language_info": {
   "codemirror_mode": {
    "name": "ipython",
    "version": 3
   },
   "file_extension": ".py",
   "mimetype": "text/x-python",
   "name": "python",
   "nbconvert_exporter": "python",
   "pygments_lexer": "ipython3",
   "version": "3.8.5"
  }
 },
 "nbformat": 4,
 "nbformat_minor": 4
}
