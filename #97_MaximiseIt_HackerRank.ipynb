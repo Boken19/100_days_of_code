{
 "cells": [
  {
   "cell_type": "markdown",
   "metadata": {},
   "source": [
    "### Compress the String"
   ]
  },
  {
   "cell_type": "markdown",
   "metadata": {},
   "source": [
    "**In this task, we would like for you to appreciate the usefulness of the groupby() function of itertools .**\n",
    "\n",
    "You are given a string S. Suppose a character 'c' occurs consecutively X times in the string. Replace these consecutive occurrences of the character 'c' with (X, c) in the string."
   ]
  },
  {
   "cell_type": "code",
   "execution_count": 1,
   "metadata": {},
   "outputs": [
    {
     "name": "stdout",
     "output_type": "stream",
     "text": [
      "1222311\n",
      "(1, 1) (3, 2) (1, 3) (2, 1) "
     ]
    }
   ],
   "source": [
    "from itertools import groupby\n",
    "data = input()\n",
    "for i, j in groupby(data):\n",
    "    print(tuple([len(list(j)), int(i)]), end = ' ')"
   ]
  },
  {
   "cell_type": "code",
   "execution_count": null,
   "metadata": {},
   "outputs": [],
   "source": []
  },
  {
   "cell_type": "markdown",
   "metadata": {},
   "source": [
    "### Maximise It - (Hard)"
   ]
  },
  {
   "cell_type": "markdown",
   "metadata": {},
   "source": [
    "You are given a function f(X) = X2. You are also given K lists. The ith list consists of Ni elements.You have to pick one element from each list so that the value from the equation below is maximized:\n",
    "\n",
    "S = (f(X1)+f(X2)+....+f(Xk))%M\n",
    "\n",
    "Xi denotes the element picked from the ith list . Find the maximized value Smax obtained.\n",
    "\n",
    "% denotes the modulo operator.\n",
    "\n",
    "Note that you need to take exactly one element from each list, not necessarily the largest element. You add the squares of the chosen elements and perform the modulo operation. The maximum value that you can obtain, will be the answer to the problem."
   ]
  },
  {
   "cell_type": "code",
   "execution_count": 2,
   "metadata": {},
   "outputs": [
    {
     "name": "stdout",
     "output_type": "stream",
     "text": [
      "7 867\n",
      "7 6429964 4173738 9941618 2744666 5392018 5813128 9452095\n",
      "7 6517823 4135421 6418713 9924958 9370532 7940650 2027017\n",
      "7 1506500 3460933 1550284 3679489 4538773 5216621 5645660\n",
      "7 7443563 5181142 8804416 8726696 5358847 7155276 4433125\n",
      "7 2230555 3920370 7851992 1176871 610460 309961 3921536\n",
      "7 8518829 8639441 3373630 5036651 5291213 2308694 7477960\n",
      "7 7178097 249343 9504976 8684596 6226627 1055259 4880436\n",
      "866\n"
     ]
    }
   ],
   "source": [
    "# itertools.product returns the cartesian product of all the itrable provieded as the argument. For example, product(arr1, arr2, arr3).\n",
    "from itertools import product\n",
    "k, m = list(map(int, input().split()))\n",
    "array = []\n",
    "for i in range(k):\n",
    "    equation = list(map(int, input().split()))\n",
    "    n = equation[0]\n",
    "    values = equation[1:]\n",
    "    if len(values) == n:\n",
    "        array.append(map(lambda x: (x**2)%m, values))\n",
    "add = []\n",
    "for j in product(*array):\n",
    "    add.append(sum(j)%m)\n",
    "print(max(add))"
   ]
  },
  {
   "cell_type": "code",
   "execution_count": null,
   "metadata": {},
   "outputs": [],
   "source": []
  }
 ],
 "metadata": {
  "kernelspec": {
   "display_name": "Python 3",
   "language": "python",
   "name": "python3"
  },
  "language_info": {
   "codemirror_mode": {
    "name": "ipython",
    "version": 3
   },
   "file_extension": ".py",
   "mimetype": "text/x-python",
   "name": "python",
   "nbconvert_exporter": "python",
   "pygments_lexer": "ipython3",
   "version": "3.8.5"
  }
 },
 "nbformat": 4,
 "nbformat_minor": 4
}
