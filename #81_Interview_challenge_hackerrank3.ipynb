{
 "cells": [
  {
   "cell_type": "markdown",
   "metadata": {},
   "source": [
    "**There is a new mobile game that starts with consecutively numbered clouds. Some of the clouds are thunderheads and others are cumulus. The player can jump on any cumulus cloud having a number that is equal to the number of the current cloud plus 1 or 2. The player must avoid the thunderheads. Determine the minimum number of jumps it will take to jump from the starting postion to the last cloud. It is always possible to win the game.**\n",
    "\n",
    "**For each game, you will get an array of clouds numbered 0 if they are safe or 1 if they must be avoided.**"
   ]
  },
  {
   "cell_type": "code",
   "execution_count": 2,
   "metadata": {},
   "outputs": [
    {
     "name": "stdout",
     "output_type": "stream",
     "text": [
      "Enter the string of no.'s: 0 0 1 0 0 1 0\n",
      "minimum steps to reach the end are : 4\n"
     ]
    }
   ],
   "source": [
    "def jumpingOnClouds(c):\n",
    "    count = 0\n",
    "    i = 0\n",
    "    while i < len(c)-1:\n",
    "        if (i+2 < len(c)) and (c[i+2] == 0):\n",
    "             i += 2\n",
    "             count += 1\n",
    "        else:\n",
    "            i += 1\n",
    "            count += 1\n",
    "    return count\n",
    "\n",
    "c = list(map(int, input(\"Enter the string of no.'s: \").rstrip().split()))\n",
    "result = jumpingOnClouds(c)\n",
    "print(f'minimum steps to reach the end are : {result}')"
   ]
  },
  {
   "cell_type": "code",
   "execution_count": null,
   "metadata": {},
   "outputs": [],
   "source": []
  }
 ],
 "metadata": {
  "kernelspec": {
   "display_name": "Python 3",
   "language": "python",
   "name": "python3"
  },
  "language_info": {
   "codemirror_mode": {
    "name": "ipython",
    "version": 3
   },
   "file_extension": ".py",
   "mimetype": "text/x-python",
   "name": "python",
   "nbconvert_exporter": "python",
   "pygments_lexer": "ipython3",
   "version": "3.8.5"
  }
 },
 "nbformat": 4,
 "nbformat_minor": 4
}
