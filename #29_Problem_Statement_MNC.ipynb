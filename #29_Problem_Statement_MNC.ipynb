{
 "cells": [
  {
   "cell_type": "code",
   "execution_count": 1,
   "metadata": {},
   "outputs": [
    {
     "name": "stdout",
     "output_type": "stream",
     "text": [
      "Enter an array of meeting time: [['9:00', '10:00'], ['9:30', '10:30'], ['10:00', '11:00'], ['9:45', '10:30']]\n",
      "[[900, 1000], [930, 1030], [1000, 1100], [945, 1030]]\n",
      "[[900, 1000], [930, 1030], [945, 1030], [1000, 1100]]\n",
      "no. of meeting room require are:  3\n"
     ]
    }
   ],
   "source": [
    "import ast\n",
    "meeting_time = ast.literal_eval(input(\"Enter an array of meeting time: \"))\n",
    "meet_string = []\n",
    "for i in meeting_time:\n",
    "    for j in i:\n",
    "        meet_string.append(int(j.replace(':','')))\n",
    "int_list = []\n",
    "for i,j in zip(range(0,len(meet_string),2),range(1,len(meet_string),2)):\n",
    "    int_list.append([meet_string[i],meet_string[j]])\n",
    "print(int_list)\n",
    "int_list.sort()\n",
    "print(int_list)\n",
    "count = 1\n",
    "for i in range(1,len(int_list)):\n",
    "    if int_list[i-1][0] < int_list[i][0] and int_list[i-1][1] < int_list[i][1]:\n",
    "        count += 1\n",
    "print('no. of meeting room require are: ',count)"
   ]
  },
  {
   "cell_type": "code",
   "execution_count": null,
   "metadata": {},
   "outputs": [],
   "source": []
  }
 ],
 "metadata": {
  "kernelspec": {
   "display_name": "Python 3",
   "language": "python",
   "name": "python3"
  },
  "language_info": {
   "codemirror_mode": {
    "name": "ipython",
    "version": 3
   },
   "file_extension": ".py",
   "mimetype": "text/x-python",
   "name": "python",
   "nbconvert_exporter": "python",
   "pygments_lexer": "ipython3",
   "version": "3.8.5"
  }
 },
 "nbformat": 4,
 "nbformat_minor": 4
}
