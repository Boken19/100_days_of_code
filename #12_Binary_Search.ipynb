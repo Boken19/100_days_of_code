{
 "cells": [
  {
   "cell_type": "code",
   "execution_count": 33,
   "metadata": {},
   "outputs": [
    {
     "name": "stdout",
     "output_type": "stream",
     "text": [
      "[2, 3, 15, 19, 27, 28, 35, 37, 38, 41, 41, 42, 48, 56, 69, 71, 72, 80, 86, 101]\n",
      "Enter the no. to check: 2\n",
      "The number found on this index 0\n"
     ]
    }
   ],
   "source": [
    "from random import randint\n",
    "def search(n, array):\n",
    "    low = 0\n",
    "    mid = 0\n",
    "    high = len(array)-1\n",
    "    while high >= low:\n",
    "        mid = (high + low)//2\n",
    "        if n == array[mid]:\n",
    "            return mid\n",
    "        elif n > array[mid]:\n",
    "            low = mid + 1\n",
    "        else:\n",
    "            high = mid -1\n",
    "    return -1\n",
    "\n",
    "array1 = [randint(0,101) for i in range(20)]\n",
    "array = sorted(array1)\n",
    "print(array)\n",
    "n = int(input(\"Enter the no. to check: \"))\n",
    "result = search(n, array)\n",
    "if result != -1:\n",
    "     print(f'The number found on this index {result}')\n",
    "else:\n",
    "    print('The number is not in the list.')    "
   ]
  },
  {
   "cell_type": "code",
   "execution_count": null,
   "metadata": {},
   "outputs": [],
   "source": []
  }
 ],
 "metadata": {
  "kernelspec": {
   "display_name": "Python 3",
   "language": "python",
   "name": "python3"
  },
  "language_info": {
   "codemirror_mode": {
    "name": "ipython",
    "version": 3
   },
   "file_extension": ".py",
   "mimetype": "text/x-python",
   "name": "python",
   "nbconvert_exporter": "python",
   "pygments_lexer": "ipython3",
   "version": "3.8.5"
  }
 },
 "nbformat": 4,
 "nbformat_minor": 4
}
