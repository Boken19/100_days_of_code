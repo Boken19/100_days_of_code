{
 "cells": [
  {
   "cell_type": "markdown",
   "metadata": {},
   "source": [
    "## Basics of Numpy\n",
    "NumPy, which stands for ‘Numerical Python’, is a library meant for scientific calculations. The basic data structure of NumPy is an array. A NumPy array is a collection of values stored together, similar to a list.<br/><br/>\n",
    "#### Two different advantages that NumPy arrays have over lists:\n",
    "1. Ability to operate on individual elements in the array without using loops or list comprehension\n",
    "2. Speed of execution\n",
    "\n",
    "#### Creating Numpy Arrays\n",
    "There are two ways to create NumPy arrays, which are mentioned below:<br/>\n",
    "a. By converting the existing lists or tuples to arrays using np.array<br/>\n",
    "b. By initialising fixed-length arrays using the NumPy functions<br/>\n",
    "\n",
    "The key advantage of using NumPy arrays over lists is that arrays allow you to operate over the entire data, unlike lists. However, in terms of structure, NumPy arrays are extremely similar to lists. If you try to run the print() command over a NumPy array, then you will get the following output:\n",
    "\n",
    "\n",
    "[element_1  element_2  element_3…]"
   ]
  },
  {
   "cell_type": "code",
   "execution_count": 1,
   "metadata": {},
   "outputs": [],
   "source": [
    "import numpy as np"
   ]
  },
  {
   "cell_type": "code",
   "execution_count": 2,
   "metadata": {},
   "outputs": [],
   "source": [
    "#define a Numpy array\n",
    "np_heights = np.array([74, 72, 73, 85, 90])"
   ]
  },
  {
   "cell_type": "code",
   "execution_count": 3,
   "metadata": {},
   "outputs": [
    {
     "data": {
      "text/plain": [
       "array([74, 72, 73, 85, 90])"
      ]
     },
     "execution_count": 3,
     "metadata": {},
     "output_type": "execute_result"
    }
   ],
   "source": [
    "np_heights"
   ]
  },
  {
   "cell_type": "code",
   "execution_count": 4,
   "metadata": {},
   "outputs": [
    {
     "data": {
      "text/plain": [
       "array([187.96, 182.88, 185.42, 215.9 , 228.6 ])"
      ]
     },
     "execution_count": 4,
     "metadata": {},
     "output_type": "execute_result"
    }
   ],
   "source": [
    "# Multiple height (NumPy array) with a scalar.\n",
    "np_heights * 2.54"
   ]
  },
  {
   "cell_type": "code",
   "execution_count": 5,
   "metadata": {},
   "outputs": [
    {
     "data": {
      "text/plain": [
       "array([5, 7, 9])"
      ]
     },
     "execution_count": 5,
     "metadata": {},
     "output_type": "execute_result"
    }
   ],
   "source": [
    "# Let's define two NumPy array and perform '+' operation on that.\n",
    "np1 = np.array([1,2,3])\n",
    "np2 = np.array([4,5,6])\n",
    "np1 + np2"
   ]
  },
  {
   "cell_type": "code",
   "execution_count": null,
   "metadata": {},
   "outputs": [],
   "source": []
  }
 ],
 "metadata": {
  "kernelspec": {
   "display_name": "Python 3",
   "language": "python",
   "name": "python3"
  },
  "language_info": {
   "codemirror_mode": {
    "name": "ipython",
    "version": 3
   },
   "file_extension": ".py",
   "mimetype": "text/x-python",
   "name": "python",
   "nbconvert_exporter": "python",
   "pygments_lexer": "ipython3",
   "version": "3.8.5"
  }
 },
 "nbformat": 4,
 "nbformat_minor": 4
}
