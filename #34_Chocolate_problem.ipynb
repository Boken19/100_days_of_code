{
 "cells": [
  {
   "cell_type": "markdown",
   "metadata": {},
   "source": [
    "### How Many Chocolates?\n",
    "Description\n",
    "Sanjay loves chocolates. He goes to a shop to buy his favourite chocolate. There he notices there is an offer going on, upon bringing 3 wrappers of the same chocolate, you will get new chocolate for free. If Sanjay has m Rupees. How many chocolates will he be able to eat if each chocolate costs c Rupees?\n",
    "\n",
    "----------------------------------------------------------------------\n",
    "Input:\n",
    "Two positive integers m and c separated by a comma. The first integer is m and the second integer is c \n",
    "\n",
    "Output\n",
    "A single integer denoting the number of chocolates Sanjay was able to eat in total."
   ]
  },
  {
   "cell_type": "code",
   "execution_count": 3,
   "metadata": {},
   "outputs": [
    {
     "name": "stdout",
     "output_type": "stream",
     "text": [
      "15,2\n",
      "He is able to eat 10 chocolates.\n"
     ]
    }
   ],
   "source": [
    "m, c = input().split(',')\n",
    "chocolates = int(m)//int(c)\n",
    "w = chocolates\n",
    "\n",
    "#start writing your code here\n",
    "while w//3 != 0:\n",
    "    chocolates = chocolates + w//3\n",
    "    w = w//3 + w%3\n",
    "    \n",
    "print('He is able to eat {} chocolates.'.format(chocolates))"
   ]
  },
  {
   "cell_type": "code",
   "execution_count": null,
   "metadata": {},
   "outputs": [],
   "source": []
  }
 ],
 "metadata": {
  "kernelspec": {
   "display_name": "Python 3",
   "language": "python",
   "name": "python3"
  },
  "language_info": {
   "codemirror_mode": {
    "name": "ipython",
    "version": 3
   },
   "file_extension": ".py",
   "mimetype": "text/x-python",
   "name": "python",
   "nbconvert_exporter": "python",
   "pygments_lexer": "ipython3",
   "version": "3.8.5"
  }
 },
 "nbformat": 4,
 "nbformat_minor": 4
}
