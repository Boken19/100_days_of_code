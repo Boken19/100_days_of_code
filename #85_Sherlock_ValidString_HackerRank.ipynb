{
 "cells": [
  {
   "cell_type": "markdown",
   "metadata": {},
   "source": [
    "### Sherlock and the valid String"
   ]
  },
  {
   "cell_type": "markdown",
   "metadata": {},
   "source": [
    "**Sherlock considers a string to be valid if all characters of the string appear the same number of times. It is also valid if he can remove just 1 character at 1 index in the string, and the remaining characters will occur the same number of times. Given a string s, determine if it is valid. If so, return YES, otherwise return NO.**"
   ]
  },
  {
   "cell_type": "code",
   "execution_count": 2,
   "metadata": {},
   "outputs": [],
   "source": [
    "from collections import Counter\n",
    "def isValid(s):\n",
    "    #get frequencies\n",
    "    dic = Counter(s)\n",
    "    # case1: same frequencies\n",
    "    if len(set(dic.values())) == 1:\n",
    "        return 'YES'\n",
    "    # case2: more than 2 unique frequencies\n",
    "    elif len(set(dic.values())) > 2:\n",
    "        return 'NO'\n",
    "    # case3: 2 unique frequencies\n",
    "    elif len(set(dic.values())) == 2:\n",
    "        for key in dic:\n",
    "            dic[key] -= 1\n",
    "            list1 = list(dic.values())\n",
    "            try:\n",
    "                list1.remove(0)\n",
    "            except:\n",
    "                pass\n",
    "            if len(set(list1)) == 1:\n",
    "                return 'YES'\n",
    "            else:\n",
    "                dic[key] += 1\n",
    "        return 'NO'"
   ]
  },
  {
   "cell_type": "code",
   "execution_count": 7,
   "metadata": {},
   "outputs": [
    {
     "name": "stdout",
     "output_type": "stream",
     "text": [
      "Enter a string: aabbcd\n",
      "Is this a valid Sherlock string : NO\n"
     ]
    }
   ],
   "source": [
    "s = input('Enter a string: ')\n",
    "result = isValid(s)\n",
    "print(f'Is this a valid Sherlock string : {result}')"
   ]
  },
  {
   "cell_type": "code",
   "execution_count": 8,
   "metadata": {},
   "outputs": [
    {
     "name": "stdout",
     "output_type": "stream",
     "text": [
      "Enter a string: aabbccddeefghi\n",
      "Is this a valid Sherlock string : NO\n"
     ]
    }
   ],
   "source": [
    "s = input('Enter a string: ')\n",
    "result = isValid(s)\n",
    "print(f'Is this a valid Sherlock string : {result}')"
   ]
  },
  {
   "cell_type": "code",
   "execution_count": 9,
   "metadata": {},
   "outputs": [
    {
     "name": "stdout",
     "output_type": "stream",
     "text": [
      "Enter a string: abcdefghhgfedecba\n",
      "Is this a valid Sherlock string : YES\n"
     ]
    }
   ],
   "source": [
    "s = input('Enter a string: ')\n",
    "result = isValid(s)\n",
    "print(f'Is this a valid Sherlock string : {result}')"
   ]
  },
  {
   "cell_type": "code",
   "execution_count": null,
   "metadata": {},
   "outputs": [],
   "source": []
  }
 ],
 "metadata": {
  "kernelspec": {
   "display_name": "Python 3",
   "language": "python",
   "name": "python3"
  },
  "language_info": {
   "codemirror_mode": {
    "name": "ipython",
    "version": 3
   },
   "file_extension": ".py",
   "mimetype": "text/x-python",
   "name": "python",
   "nbconvert_exporter": "python",
   "pygments_lexer": "ipython3",
   "version": "3.8.5"
  }
 },
 "nbformat": 4,
 "nbformat_minor": 4
}
