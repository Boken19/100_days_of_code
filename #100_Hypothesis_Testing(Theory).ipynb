{
 "cells": [
  {
   "cell_type": "markdown",
   "metadata": {},
   "source": [
    "## Hypothesis Testing"
   ]
  },
  {
   "cell_type": "markdown",
   "metadata": {},
   "source": [
    "- basic difference between inferential statistics and hypothesis testing\n",
    "    - **Inferential Statistics:** It is used to find some population parameter (mostly population mean) when you have no initial number to start with. So, you start with the sampling activity and find out the sample mean. Then, you estimate the population mean from the sample mean using the confidence interval.\n",
    "    - **Hypothesis Testing:** It is used to confirm your conclusion (or hypothesis) about the population parameter (which you know from EDA or your intuition). Through hypothesis testing, you can determine whether there is enough evidence to conclude if the hypothesis about the population parameter is true or not."
   ]
  },
  {
   "cell_type": "markdown",
   "metadata": {},
   "source": [
    "- Hypothesis Testing starts with the formulation of these two hypotheses:\n",
    "    - **Null hypothesis (H₀):** The status quo\n",
    "    - **Alternate hypothesis (H₁):** The challenge to the status quo"
   ]
  },
  {
   "cell_type": "markdown",
   "metadata": {},
   "source": [
    "- You can use the following rule to formulate the null and alternate hypotheses:\n",
    "    - The null hypothesis always has the following signs:  =  OR   ≤   OR    ≥\n",
    "    - The alternate hypothesis always has the following signs:  ≠   OR  >   OR    <"
   ]
  },
  {
   "cell_type": "markdown",
   "metadata": {},
   "source": [
    "- Example:\n",
    "    - Flipkart claimed that its total valuation in December 2016 was at least \\$14 billion. Here, the claim contains ≥ sign (i.e. the at least sign), so the null hypothesis is the original claim.\n",
    "    - Hypothesis: \n",
    "        - Total valuation >= \\$14 Billion --> Null Hypothesis\n",
    "        - Total valuation < \\$14 Billion --> Alternate Hypothesis"
   ]
  },
  {
   "cell_type": "markdown",
   "metadata": {},
   "source": [
    "### Making a Decision\n",
    "-  the most important step of hypothesis testing — making the decision to either reject or fail to reject the null hypothesis.\n",
    "- We make a decision by taking critical values.\n",
    "- **Critical Values:** It entails comparing the observed test statistic to some cutoff value, called the \"critical value.\" If the test statistic is more extreme than the critical value, then the null hypothesis is rejected in favor of the alternative hypothesis. If the test statistic is not as extreme as the critical value, then the null hypothesis is not rejected.\n",
    "- You can tell the type of the test and the position of the critical region on the basis of the ‘sign’ in the alternate hypothesis.\n",
    "    - ≠ in H₁    →   **Two-tailed test**        →     Rejection region on both sides of distribution\n",
    "    - https://online.stat.psu.edu/statprogram/sites/statprogram/files/inline-images/s-3-1%20ex%20two%20tail.png\n",
    "    - < in H₁    →   **Lower-tailed test**     →     Rejection region on left side of distribution\n",
    "    - https://online.stat.psu.edu/statprogram/sites/statprogram/files/inline-images/s-3-1%20ex%20left.png\n",
    "    - \\> in H₁    →   **Upper-tailed test**     →     Rejection region on right side of distribution\n",
    "    - https://online.stat.psu.edu/statprogram/sites/statprogram/files/inline-images/s-3-1%20ex%20graph.png"
   ]
  },
  {
   "cell_type": "markdown",
   "metadata": {},
   "source": [
    "#### Method 1: Critical Value Method\n",
    "- The steps you have to follow to make a decision using the critical value method are as follows:\n",
    "    1. Calculate the value of Zċ (z-critical value) from the given value of α (significance level). Take it a 5% if not specified in the problem.\n",
    "    2. Calculate the critical values (UCV and LCV) from the value of Zċ.\n",
    "    3. Make the decision on the basis of the value of the sample mean x with respect to the critical values (UCV AND LCV)."
   ]
  },
  {
   "cell_type": "markdown",
   "metadata": {},
   "source": [
    "#### Method 2: p-value method\n",
    "- p-value as the probability that the null hypothesis will not be rejected.\n",
    "- The higher the p-value, the higher is the probability of failing to reject a null hypothesis. And the lower the p-value, the higher is the probability of the null hypothesis being rejected.\n",
    "- the steps to follow in order to make a decision using the p-value method are as follows:\n",
    "    1. Calculate the value of the z-score for the sample mean point on the distribution.\n",
    "    2. Calculate the p-value from the cumulative probability for the given z-score using the z-table.\n",
    "    3. Make a decision on the basis of the p-value (multiply it by 2 for a two-tailed test) with respect to the given value of α (significance value)."
   ]
  },
  {
   "cell_type": "code",
   "execution_count": null,
   "metadata": {},
   "outputs": [],
   "source": []
  }
 ],
 "metadata": {
  "kernelspec": {
   "display_name": "Python 3",
   "language": "python",
   "name": "python3"
  },
  "language_info": {
   "codemirror_mode": {
    "name": "ipython",
    "version": 3
   },
   "file_extension": ".py",
   "mimetype": "text/x-python",
   "name": "python",
   "nbconvert_exporter": "python",
   "pygments_lexer": "ipython3",
   "version": "3.8.5"
  }
 },
 "nbformat": 4,
 "nbformat_minor": 4
}
