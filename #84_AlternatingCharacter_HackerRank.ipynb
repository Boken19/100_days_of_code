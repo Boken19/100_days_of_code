{
 "cells": [
  {
   "cell_type": "markdown",
   "metadata": {},
   "source": [
    "### Alternating Characters"
   ]
  },
  {
   "cell_type": "markdown",
   "metadata": {},
   "source": [
    "**You are given a string containing characters A and B only. Your task is to change it into a string such that there are no matching adjacent characters. To do this, you are allowed to delete zero or more characters in the string.\n",
    "Your task is to find the minimum number of required deletions.**"
   ]
  },
  {
   "cell_type": "code",
   "execution_count": 3,
   "metadata": {},
   "outputs": [
    {
     "name": "stdout",
     "output_type": "stream",
     "text": [
      "Enter the no. of inputs: 5\n",
      "Enter 1 string: AAAA\n",
      "The minimum no. of deletions required are 3\n",
      "Enter 2 string: BBBBB\n",
      "The minimum no. of deletions required are 4\n",
      "Enter 3 string: ABABABAB\n",
      "The minimum no. of deletions required are 0\n",
      "Enter 4 string: BABABA\n",
      "The minimum no. of deletions required are 0\n",
      "Enter 5 string: AAABBB\n",
      "The minimum no. of deletions required are 4\n"
     ]
    }
   ],
   "source": [
    "def alternatingCharacters(s):\n",
    "    count = 0\n",
    "    list1 = [i for i in s]\n",
    "    for i in range(0,len(list1)-1):\n",
    "        if len(list1) > 1:\n",
    "            if list1[i+1] == list1[i]:\n",
    "                count += 1\n",
    "        else:\n",
    "            return 0\n",
    "    return count\n",
    "\n",
    "q = int(input('Enter the no. of inputs: ').strip())\n",
    "for q_itr in range(q):\n",
    "    s = input(f'Enter {q_itr +1} string: ')\n",
    "    result = alternatingCharacters(s)\n",
    "    print(f'The minimum no. of deletions required are {result}')"
   ]
  },
  {
   "cell_type": "code",
   "execution_count": null,
   "metadata": {},
   "outputs": [],
   "source": []
  }
 ],
 "metadata": {
  "kernelspec": {
   "display_name": "Python 3",
   "language": "python",
   "name": "python3"
  },
  "language_info": {
   "codemirror_mode": {
    "name": "ipython",
    "version": 3
   },
   "file_extension": ".py",
   "mimetype": "text/x-python",
   "name": "python",
   "nbconvert_exporter": "python",
   "pygments_lexer": "ipython3",
   "version": "3.8.5"
  }
 },
 "nbformat": 4,
 "nbformat_minor": 4
}
