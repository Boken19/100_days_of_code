{
 "cells": [
  {
   "cell_type": "markdown",
   "metadata": {},
   "source": [
    "**There is a string, s, of lowercase English letters that is repeated infinitely many times. Given an integer, n, find and print the number of letter a's in the first n letters of the infinite string.**"
   ]
  },
  {
   "cell_type": "code",
   "execution_count": 2,
   "metadata": {},
   "outputs": [
    {
     "name": "stdout",
     "output_type": "stream",
     "text": [
      "Enter the string: aba\n",
      "Enter the memory size to be filled by string: 10\n",
      "total no. of a's in the string are: 7\n"
     ]
    }
   ],
   "source": [
    "s = input('Enter the string: ')\n",
    "n = int(input('Enter the memory size to be filled by string: '))\n",
    "count = (s*(n//len(s)) + s[:n%len(s)]).count('a')\n",
    "print(\"total no. of a's in the string are:\",count)"
   ]
  },
  {
   "cell_type": "code",
   "execution_count": 7,
   "metadata": {},
   "outputs": [
    {
     "name": "stdout",
     "output_type": "stream",
     "text": [
      "Enter the string: a\n",
      "Enter the memory size to be filled by string: 1000000000000\n",
      "total no. of a's in the string are: 1000000000000\n"
     ]
    }
   ],
   "source": [
    "# for memory problem we have to count the seperate values and then multiply them with the no.\n",
    "# because string does not store this type of large data.\n",
    "s = input('Enter the string: ')\n",
    "n = int(input('Enter the memory size to be filled by string: '))\n",
    "count = s.count('a')*(n//len(s)) + s[:n%len(s)].count('a')\n",
    "print(\"total no. of a's in the string are:\",count)"
   ]
  },
  {
   "cell_type": "code",
   "execution_count": null,
   "metadata": {},
   "outputs": [],
   "source": []
  }
 ],
 "metadata": {
  "kernelspec": {
   "display_name": "Python 3",
   "language": "python",
   "name": "python3"
  },
  "language_info": {
   "codemirror_mode": {
    "name": "ipython",
    "version": 3
   },
   "file_extension": ".py",
   "mimetype": "text/x-python",
   "name": "python",
   "nbconvert_exporter": "python",
   "pygments_lexer": "ipython3",
   "version": "3.8.5"
  }
 },
 "nbformat": 4,
 "nbformat_minor": 4
}
