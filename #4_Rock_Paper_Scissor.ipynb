{
 "cells": [
  {
   "cell_type": "code",
   "execution_count": 6,
   "metadata": {},
   "outputs": [
    {
     "name": "stdout",
     "output_type": "stream",
     "text": [
      "'r' for rock, 'p' for paper and 's' for scissors: s\n",
      "You lost\n"
     ]
    }
   ],
   "source": [
    "#Write a program to play a game called Rock, Paper and Scissors!!!\n",
    "from random import choice\n",
    "def play():\n",
    "    user = input(\"'r' for rock, 'p' for paper and 's' for scissors: \")\n",
    "    computer = choice(['r', 'p', 's'])\n",
    "    \n",
    "    if user == computer:\n",
    "        return 'tie'\n",
    "    \n",
    "    #r>s; s>p; p>r\n",
    "    if is_win(user, computer):\n",
    "        return 'You won!!'\n",
    "    print('You lost')\n",
    "\n",
    "def is_win(player, opponent):\n",
    "    if(player == 'r' and opponent == 's') or (player == 's' and opponent == 'p') or (player == 'p' and opponent == 'r'):\n",
    "        return True\n",
    "    \n",
    "play()"
   ]
  },
  {
   "cell_type": "code",
   "execution_count": null,
   "metadata": {},
   "outputs": [],
   "source": []
  }
 ],
 "metadata": {
  "kernelspec": {
   "display_name": "Python 3",
   "language": "python",
   "name": "python3"
  },
  "language_info": {
   "codemirror_mode": {
    "name": "ipython",
    "version": 3
   },
   "file_extension": ".py",
   "mimetype": "text/x-python",
   "name": "python",
   "nbconvert_exporter": "python",
   "pygments_lexer": "ipython3",
   "version": "3.8.5"
  }
 },
 "nbformat": 4,
 "nbformat_minor": 4
}
