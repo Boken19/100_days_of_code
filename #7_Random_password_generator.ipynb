{
 "cells": [
  {
   "cell_type": "code",
   "execution_count": 6,
   "metadata": {},
   "outputs": [
    {
     "name": "stdout",
     "output_type": "stream",
     "text": [
      "Enter password length: 12\n",
      "r!55FWj92#qt\n"
     ]
    }
   ],
   "source": [
    "import random\n",
    "import math\n",
    "\n",
    "alpha = 'abcdefghijklmnopqrstuvwxyz'\n",
    "num = '0123456789'\n",
    "special = '!@#$*%&'\n",
    "\n",
    "#pass_length = random.randint(8,13) without user\n",
    "pass_length = int(input(\"Enter password length: \"))\n",
    "\n",
    "#length of password 50-30-20 formula\n",
    "alpha_len = pass_length//2\n",
    "num_len = math.ceil(pass_length*30/100)\n",
    "special_len = pass_length - (alpha_len + num_len)\n",
    "\n",
    "password = []\n",
    "\n",
    "def generate_pass(length, array, is_alpha = False):\n",
    "    for i in range(0, length):\n",
    "        index = random.randint(0, len(array) - 1)\n",
    "        character = array[index]\n",
    "        if is_alpha:\n",
    "            case = random.randint(0, 1)\n",
    "            if case == 1:\n",
    "                character = character.upper()\n",
    "        password.append(character)\n",
    "\n",
    "#alphabet generator\n",
    "generate_pass(alpha_len, alpha, True)\n",
    "#number generator\n",
    "generate_pass(num_len, num, False)\n",
    "#special character generator\n",
    "generate_pass(special_len, special, False)\n",
    "#shuffle the generated password list\n",
    "random.shuffle(password)\n",
    "#generate random password\n",
    "gen_pass = ''\n",
    "for i in password:\n",
    "    gen_pass += str(i)\n",
    "print(gen_pass)"
   ]
  }
 ],
 "metadata": {
  "kernelspec": {
   "display_name": "Python 3",
   "language": "python",
   "name": "python3"
  },
  "language_info": {
   "codemirror_mode": {
    "name": "ipython",
    "version": 3
   },
   "file_extension": ".py",
   "mimetype": "text/x-python",
   "name": "python",
   "nbconvert_exporter": "python",
   "pygments_lexer": "ipython3",
   "version": "3.8.5"
  }
 },
 "nbformat": 4,
 "nbformat_minor": 4
}
