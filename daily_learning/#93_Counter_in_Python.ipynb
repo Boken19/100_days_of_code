{
 "cells": [
  {
   "cell_type": "markdown",
   "metadata": {},
   "source": [
    "#### Task\n",
    "Raghu is a shoe shop owner. His shop has X number of shoes.\n",
    "He has a list containing the size of each shoe he has in his shop.\n",
    "There are N number of customers who are willing to pay P amount of money only if they get the shoe of their desired size.\n",
    "\n",
    "Your task is to compute how much money  earned."
   ]
  },
  {
   "cell_type": "code",
   "execution_count": 3,
   "metadata": {},
   "outputs": [
    {
     "name": "stdout",
     "output_type": "stream",
     "text": [
      "Enter the list containing different sizes of shoes owner has: 2 3 4 5 6 8 7 6 5 18\n",
      "Counter({5: 2, 6: 2, 2: 1, 3: 1, 4: 1, 8: 1, 7: 1, 18: 1})\n",
      "No. of customers: 6\n",
      "Customer 1 requirement: 6 55\n",
      "Customer 2 requirement: 6 45\n",
      "Customer 3 requirement: 6 55\n",
      "Customer 4 requirement: 4 40\n",
      "Customer 5 requirement: 18 60\n",
      "Customer 6 requirement: 10 50\n",
      "Total income at the end of the day is 200Rs\n"
     ]
    }
   ],
   "source": [
    "#A counter is a container that stores elements as dictionary keys, and their counts are stored as dictionary values.\n",
    "from collections import Counter\n",
    "list1 = list(map(int, input('Enter the list containing different sizes of shoes owner has: ').split()))\n",
    "shoes = Counter(list1)\n",
    "print(shoes)\n",
    "total_money = 0\n",
    "N = int(input('No. of customers: '))\n",
    "for i in range(N):\n",
    "    shoe_size, price = list(map(int, input(f'Customer {i+1} requirement: ').split()))\n",
    "    if shoes[shoe_size] != 0:\n",
    "        total_money += price\n",
    "        shoes[shoe_size] -= 1\n",
    "        \n",
    "print(f'Total income at the end of the day is {total_money}Rs')"
   ]
  },
  {
   "cell_type": "code",
   "execution_count": null,
   "metadata": {},
   "outputs": [],
   "source": []
  }
 ],
 "metadata": {
  "kernelspec": {
   "display_name": "Python 3",
   "language": "python",
   "name": "python3"
  },
  "language_info": {
   "codemirror_mode": {
    "name": "ipython",
    "version": 3
   },
   "file_extension": ".py",
   "mimetype": "text/x-python",
   "name": "python",
   "nbconvert_exporter": "python",
   "pygments_lexer": "ipython3",
   "version": "3.8.5"
  }
 },
 "nbformat": 4,
 "nbformat_minor": 4
}
