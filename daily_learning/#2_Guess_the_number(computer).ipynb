{
 "cells": [
  {
   "cell_type": "code",
   "execution_count": 5,
   "metadata": {},
   "outputs": [
    {
     "name": "stdout",
     "output_type": "stream",
     "text": [
      "Guess a random no. between 1 and 10: 50\n",
      "The no. is high, guess a lower number.\n",
      "Guess a random no. between 1 and 10: 5\n",
      "The no. is high, guess a lower number.\n",
      "Guess a random no. between 1 and 10: 1\n",
      "The no. is low, guess a higher number.\n",
      "Guess a random no. between 1 and 10: 5\n",
      "The no. is high, guess a lower number.\n",
      "Guess a random no. between 1 and 10: 4\n",
      "The no. is high, guess a lower number.\n",
      "Guess a random no. between 1 and 10: 3\n",
      "The no. is high, guess a lower number.\n",
      "Guess a random no. between 1 and 10: 2\n",
      "Yay!!!! You guessed the correct number.2\n"
     ]
    }
   ],
   "source": [
    "from random import randint\n",
    "\n",
    "def guess(x):\n",
    "    random_no = randint(1, x)\n",
    "    guess = 0\n",
    "    while guess != random_no:\n",
    "        guess = int(input(\"Guess a random no. between 1 and {}: \".format(x)))\n",
    "        if guess > random_no:\n",
    "            print(\"The no. is high, guess a lower number.\")\n",
    "        elif guess < random_no:\n",
    "            print(\"The no. is low, guess a higher number.\")\n",
    "    print(f\"Yay!!!! You guessed the correct number.{random_no}\")\n",
    "guess(10)    "
   ]
  },
  {
   "cell_type": "code",
   "execution_count": null,
   "metadata": {},
   "outputs": [],
   "source": []
  }
 ],
 "metadata": {
  "kernelspec": {
   "display_name": "Python 3",
   "language": "python",
   "name": "python3"
  },
  "language_info": {
   "codemirror_mode": {
    "name": "ipython",
    "version": 3
   },
   "file_extension": ".py",
   "mimetype": "text/x-python",
   "name": "python",
   "nbconvert_exporter": "python",
   "pygments_lexer": "ipython3",
   "version": "3.8.5"
  }
 },
 "nbformat": 4,
 "nbformat_minor": 4
}
