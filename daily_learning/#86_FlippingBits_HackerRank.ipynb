{
 "cells": [
  {
   "cell_type": "markdown",
   "metadata": {},
   "source": [
    "### Flipping Bits"
   ]
  },
  {
   "cell_type": "markdown",
   "metadata": {},
   "source": [
    "**You will be given a list of 32 bit unsigned integers. Flip all the bits (1 -> 0 and 0 -> 1) and return the result as an unsigned integer.**"
   ]
  },
  {
   "cell_type": "code",
   "execution_count": 3,
   "metadata": {},
   "outputs": [],
   "source": [
    "def flippingBits(n):\n",
    "    calc = (2**32) - 1\n",
    "    return calc ^ n"
   ]
  },
  {
   "cell_type": "code",
   "execution_count": 4,
   "metadata": {},
   "outputs": [
    {
     "name": "stdout",
     "output_type": "stream",
     "text": [
      "Enter the no. of values you want to enter: 3\n",
      "Enter the integer value to convert: 0\n",
      "The inverted integer no. is: 4294967295\n",
      "Enter the integer value to convert: 35601423\n",
      "The inverted integer no. is: 4259365872\n",
      "Enter the integer value to convert: 802743475\n",
      "The inverted integer no. is: 3492223820\n"
     ]
    }
   ],
   "source": [
    "q = int(input(\"Enter the no. of values you want to enter: \").strip())\n",
    "\n",
    "for q_itr in range(q):\n",
    "    n = int(input('Enter the integer value to convert: ').strip())\n",
    "    result = flippingBits(n)\n",
    "    print(f'The inverted integer no. is: {result}')"
   ]
  },
  {
   "cell_type": "code",
   "execution_count": null,
   "metadata": {},
   "outputs": [],
   "source": []
  }
 ],
 "metadata": {
  "kernelspec": {
   "display_name": "Python 3",
   "language": "python",
   "name": "python3"
  },
  "language_info": {
   "codemirror_mode": {
    "name": "ipython",
    "version": 3
   },
   "file_extension": ".py",
   "mimetype": "text/x-python",
   "name": "python",
   "nbconvert_exporter": "python",
   "pygments_lexer": "ipython3",
   "version": "3.8.5"
  }
 },
 "nbformat": 4,
 "nbformat_minor": 4
}
