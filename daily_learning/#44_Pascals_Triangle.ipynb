{
 "cells": [
  {
   "cell_type": "code",
   "execution_count": 11,
   "metadata": {},
   "outputs": [
    {
     "name": "stdout",
     "output_type": "stream",
     "text": [
      "5\n",
      "      [1]\n",
      "     [1, 1]\n",
      "    [1, 2, 1]\n",
      "   [1, 3, 3, 1]\n",
      "  [1, 4, 6, 4, 1]\n"
     ]
    }
   ],
   "source": [
    "n=int(input())\n",
    "\n",
    "# we will make a list with n lists in it\n",
    "# each nth list will have n numbers\n",
    "#we put all 1 in all sub lists\n",
    "#suppose n = 4\n",
    "Pascals=[[1 for i in range(j)] for j in range(1, n+1)]\n",
    "#Pascals = [[1], [1, 1], [1, 1, 1], [1, 1, 1, 1], [1, 1, 1, 1, 1], [1, 1, 1, 1, 1, 1]]\n",
    "#we dont need to change first two sublists\n",
    "for i in range(2, n):\n",
    "    for j in range(1,i):\n",
    "        Pascals[i][j]=Pascals[i-1][j-1]+Pascals[i-1][j]\n",
    "        #we add from previous sublist as shown in the link\n",
    "\n",
    "for i in range(n):\n",
    "    for j in range(n-i+1):\n",
    "  \n",
    "        # for left spacing\n",
    "        print(end=\" \")\n",
    "    print(Pascals[i])\n",
    "\n"
   ]
  },
  {
   "cell_type": "code",
   "execution_count": null,
   "metadata": {},
   "outputs": [],
   "source": []
  }
 ],
 "metadata": {
  "kernelspec": {
   "display_name": "Python 3",
   "language": "python",
   "name": "python3"
  },
  "language_info": {
   "codemirror_mode": {
    "name": "ipython",
    "version": 3
   },
   "file_extension": ".py",
   "mimetype": "text/x-python",
   "name": "python",
   "nbconvert_exporter": "python",
   "pygments_lexer": "ipython3",
   "version": "3.8.5"
  }
 },
 "nbformat": 4,
 "nbformat_minor": 4
}
