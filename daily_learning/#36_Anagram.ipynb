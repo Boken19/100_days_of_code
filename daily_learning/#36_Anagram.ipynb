{
 "cells": [
  {
   "cell_type": "markdown",
   "metadata": {},
   "source": [
    "### Anagrams\n",
    "Description\n",
    "Two strings are anagrams of each other if you can rearrange the characters of one string to make the other string.\n",
    "Given two strings, can you find if they are anagrams or no?\n",
    "\n",
    "----------------------------------------------------------------------\n",
    "Input:\n",
    "Two lines of input, each line will contain a string without space.\n",
    "\n",
    "Output:\n",
    "True or False based on whether the strings are anagrams or not.\n",
    "\n",
    "----------------------------------------------------------------------\n",
    "Sample input:\n",
    "thing\n",
    "night\n",
    "\n",
    "Sample output:\n",
    "True"
   ]
  },
  {
   "cell_type": "code",
   "execution_count": 9,
   "metadata": {},
   "outputs": [
    {
     "name": "stdout",
     "output_type": "stream",
     "text": [
      "night\n",
      "thing\n",
      "True\n",
      "this is an anagram!!!\n"
     ]
    }
   ],
   "source": [
    "#take input here\n",
    "str1 = input()\n",
    "str2 = input()\n",
    "flag = 0\n",
    "if len(str1) != len(str2):\n",
    "    print(False)\n",
    "else:\n",
    "    for i in range(len(str1)):\n",
    "        if str1[i] in str2:\n",
    "            flag += 1\n",
    "        else:\n",
    "            flag = 0\n",
    "    if flag == len(str1):\n",
    "        print('True')\n",
    "        print('this is an anagram!!!')\n",
    "    else:\n",
    "        print('False')\n",
    "        print('Not an anagram value.')\n"
   ]
  },
  {
   "cell_type": "code",
   "execution_count": null,
   "metadata": {},
   "outputs": [],
   "source": []
  }
 ],
 "metadata": {
  "kernelspec": {
   "display_name": "Python 3",
   "language": "python",
   "name": "python3"
  },
  "language_info": {
   "codemirror_mode": {
    "name": "ipython",
    "version": 3
   },
   "file_extension": ".py",
   "mimetype": "text/x-python",
   "name": "python",
   "nbconvert_exporter": "python",
   "pygments_lexer": "ipython3",
   "version": "3.8.5"
  }
 },
 "nbformat": 4,
 "nbformat_minor": 4
}
