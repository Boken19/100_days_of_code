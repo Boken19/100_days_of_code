{
 "cells": [
  {
   "cell_type": "markdown",
   "metadata": {},
   "source": [
    "### SQL Joins\n",
    "A JOIN clause is used to combine rows from two or more tables, based on a related column between them.<br/>\n",
    "#### Different types of SQL joins:\n",
    "1. **(INNER) JOIN**: Returns records that have matching values in both tables<br/>\n",
    "    Syntax: <br/>\n",
    "            *SELECT column_name(s)\n",
    "            FROM table1\n",
    "            INNER JOIN table2\n",
    "            ON table1.column_name = table2.column_name;*\n",
    "2. **LEFT (OUTER) JOIN**: Returns all records from the left table, and the matched records from the right table<br/>\n",
    "    Syntax: \n",
    "            *SELECT column_name(s)\n",
    "            FROM table1\n",
    "            LEFT JOIN table2\n",
    "            ON table1.column_name = table2.column_name;*\n",
    "3. **RIGHT (OUTER) JOIN**: Returns all records from the right table, and the matched records from the left table<br/>\n",
    "    Syntax: \n",
    "            SELECT column_name(s)\n",
    "            FROM table1\n",
    "            RIGHT JOIN table2\n",
    "            ON table1.column_name = table2.column_name;\n",
    "4. **FULL (OUTER) JOIN**: Returns all records when there is a match in either left or right table<br/>\n",
    "    Syntax: \n",
    "            SELECT column_name(s)\n",
    "            FROM table1\n",
    "            FULL OUTER JOIN table2\n",
    "            ON table1.column_name = table2.column_name\n",
    "            WHERE condition;"
   ]
  },
  {
   "cell_type": "code",
   "execution_count": null,
   "metadata": {},
   "outputs": [],
   "source": []
  }
 ],
 "metadata": {
  "kernelspec": {
   "display_name": "Python 3",
   "language": "python",
   "name": "python3"
  },
  "language_info": {
   "codemirror_mode": {
    "name": "ipython",
    "version": 3
   },
   "file_extension": ".py",
   "mimetype": "text/x-python",
   "name": "python",
   "nbconvert_exporter": "python",
   "pygments_lexer": "ipython3",
   "version": "3.8.5"
  }
 },
 "nbformat": 4,
 "nbformat_minor": 4
}
