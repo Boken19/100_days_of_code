{
 "cells": [
  {
   "cell_type": "markdown",
   "metadata": {},
   "source": [
    "**Given a string, print it with each word reversed individually.**"
   ]
  },
  {
   "cell_type": "code",
   "execution_count": 4,
   "metadata": {},
   "outputs": [
    {
     "name": "stdout",
     "output_type": "stream",
     "text": [
      "I love Programming\n",
      "I evol gnimmargorP\n"
     ]
    }
   ],
   "source": [
    "input_str = input()\n",
    "input_list = input_str.split()\n",
    "output_list = []\n",
    "for i in input_list:\n",
    "    output_list.append(i[::-1])\n",
    "print(\" \".join(output_list))"
   ]
  },
  {
   "cell_type": "markdown",
   "metadata": {},
   "source": [
    "**Given a list of strings, check if the strings of both the lists can form the same sentence when put together as a sentence. \n",
    "If they form the exact same sentence, then the program should return \"True\"; otherwise, it should return 'False'. \n",
    "If there is more than one word in any string element, \n",
    "then it can further be broken down into individual words and be used in different orders to form a sentence.**"
   ]
  },
  {
   "cell_type": "code",
   "execution_count": 21,
   "metadata": {},
   "outputs": [],
   "source": [
    "#input1 = ['I', \"Programming Love\"]\n",
    "#input2 = [\"Programming\", 'I Love']\n",
    "#output = True"
   ]
  },
  {
   "cell_type": "code",
   "execution_count": 20,
   "metadata": {},
   "outputs": [
    {
     "name": "stdout",
     "output_type": "stream",
     "text": [
      "['I', \"Programming Love\"]\n",
      "[\"Programming\", 'I Love']\n"
     ]
    }
   ],
   "source": [
    "import ast\n",
    "input1 = ast.literal_eval(input())\n",
    "input2 = ast.literal_eval(input())\n",
    "inp3 = []\n",
    "inp4 = []\n",
    "for i in input1:\n",
    "    if \" \" in i:\n",
    "        inp3.extend(i.lower().split())\n",
    "    else:\n",
    "        inp3.append(i.lower())\n",
    "    \n",
    "for j in input2:\n",
    "    if \" \" in j:\n",
    "        inp4.extend(j.lower().split())\n",
    "    else:\n",
    "        inp4.append(j.lower())"
   ]
  },
  {
   "cell_type": "code",
   "execution_count": 22,
   "metadata": {},
   "outputs": [
    {
     "name": "stdout",
     "output_type": "stream",
     "text": [
      "['i', 'programming', 'love']\n",
      "['programming', 'i', 'love']\n"
     ]
    }
   ],
   "source": [
    "print(inp3)\n",
    "print(inp4)"
   ]
  },
  {
   "cell_type": "code",
   "execution_count": 23,
   "metadata": {
    "scrolled": true
   },
   "outputs": [
    {
     "name": "stdout",
     "output_type": "stream",
     "text": [
      "True\n"
     ]
    }
   ],
   "source": [
    "inp3.sort()\n",
    "inp4.sort()\n",
    "if inp3 == inp4:\n",
    "    print(True)\n",
    "else:\n",
    "    print(False)"
   ]
  },
  {
   "cell_type": "code",
   "execution_count": null,
   "metadata": {},
   "outputs": [],
   "source": []
  }
 ],
 "metadata": {
  "kernelspec": {
   "display_name": "Python 3",
   "language": "python",
   "name": "python3"
  },
  "language_info": {
   "codemirror_mode": {
    "name": "ipython",
    "version": 3
   },
   "file_extension": ".py",
   "mimetype": "text/x-python",
   "name": "python",
   "nbconvert_exporter": "python",
   "pygments_lexer": "ipython3",
   "version": "3.8.5"
  }
 },
 "nbformat": 4,
 "nbformat_minor": 4
}
