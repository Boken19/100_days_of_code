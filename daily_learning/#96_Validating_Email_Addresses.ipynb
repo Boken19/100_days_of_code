{
 "cells": [
  {
   "cell_type": "markdown",
   "metadata": {},
   "source": [
    "## Validating Email Addresses with a filter"
   ]
  },
  {
   "cell_type": "markdown",
   "metadata": {},
   "source": [
    "**You are given an integer N followed by N email addresses. Your task is to print a list containing only valid email addresses in lexicographical order.**\n",
    "\n",
    "\n",
    "Valid email addresses must follow these rules:\n",
    "\n",
    "1. It must have the username@websitename.extension format type.\n",
    "2. The username can only contain letters, digits, dashes and underscores [a-z], [A-Z], [0-9],[-_ ].\n",
    "3. The website name can only have letters and digits [a-z], [A-Z], [0-9].\n",
    "4. The extension can only contain letters [a-z], [A-Z].\n",
    "5. The maximum length of the extension is 3."
   ]
  },
  {
   "cell_type": "code",
   "execution_count": 2,
   "metadata": {},
   "outputs": [
    {
     "name": "stdout",
     "output_type": "stream",
     "text": [
      "Number of mails to check: 3\n",
      "Enter mail 1: lara@hackerrank.com\n",
      "Enter mail 2: brian-23@hackerrank.com\n",
      "Enter mail 3: britts_54@hackerrank.com\n",
      "Filtered Mails = ['brian-23@hackerrank.com', 'britts_54@hackerrank.com', 'lara@hackerrank.com']\n"
     ]
    }
   ],
   "source": [
    "def fun(s):\n",
    "    try:\n",
    "        username, url = s.split('@')\n",
    "        website, ext = url.split('.')\n",
    "    except ValueError:\n",
    "        return False\n",
    "    if username.replace(\"-\", \"\").replace(\"_\", \"\").isalnum() is False:\n",
    "        return False\n",
    "    elif website.isalnum() is False:\n",
    "        return False\n",
    "    elif len(ext) > 3:\n",
    "        return False\n",
    "    else:\n",
    "        return True    \n",
    "        \n",
    "def filter_mail(emails):\n",
    "    return list(filter(fun, emails))\n",
    "\n",
    "n = int(input('Number of mails to check: '))\n",
    "emails = []\n",
    "for i in range(n):\n",
    "    emails.append(input(f'Enter mail {i+1}: '))\n",
    "\n",
    "filtered_emails = filter_mail(emails)\n",
    "filtered_emails.sort()\n",
    "print(f'Filtered Mails = {filtered_emails}')"
   ]
  },
  {
   "cell_type": "code",
   "execution_count": null,
   "metadata": {},
   "outputs": [],
   "source": []
  }
 ],
 "metadata": {
  "kernelspec": {
   "display_name": "Python 3",
   "language": "python",
   "name": "python3"
  },
  "language_info": {
   "codemirror_mode": {
    "name": "ipython",
    "version": 3
   },
   "file_extension": ".py",
   "mimetype": "text/x-python",
   "name": "python",
   "nbconvert_exporter": "python",
   "pygments_lexer": "ipython3",
   "version": "3.8.5"
  }
 },
 "nbformat": 4,
 "nbformat_minor": 4
}
