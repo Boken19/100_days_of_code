{
 "cells": [
  {
   "cell_type": "markdown",
   "metadata": {},
   "source": [
    "**There is a large pile of socks that must be paired by color. Given an array of integers representing the color of each sock, determine how many pairs of socks with matching colors there are.**"
   ]
  },
  {
   "cell_type": "code",
   "execution_count": 6,
   "metadata": {},
   "outputs": [
    {
     "name": "stdout",
     "output_type": "stream",
     "text": [
      "No. of socks present: 9\n",
      "Enter an array of colored socks: 10 20 20 10 10 30 50 10 20\n",
      "There are 3 pairs of socks.\n"
     ]
    }
   ],
   "source": [
    "def sockMerchant(n, ar):\n",
    "    socks = {}\n",
    "    for i in ar:\n",
    "        if i not in socks:\n",
    "            socks[i] = 1\n",
    "            continue\n",
    "        socks[i] += 1\n",
    "    count = 0\n",
    "    for i in socks.values():\n",
    "        count += i//2\n",
    "    return count\n",
    "\n",
    "n = int(input('No. of socks present: ').strip())\n",
    "ar = list(map(int, input('Enter an array of colored socks: ').rstrip().split()))\n",
    "result = sockMerchant(n, ar)\n",
    "print('There are {} pairs of socks.'.format(result))"
   ]
  },
  {
   "cell_type": "code",
   "execution_count": null,
   "metadata": {},
   "outputs": [],
   "source": []
  }
 ],
 "metadata": {
  "kernelspec": {
   "display_name": "Python 3",
   "language": "python",
   "name": "python3"
  },
  "language_info": {
   "codemirror_mode": {
    "name": "ipython",
    "version": 3
   },
   "file_extension": ".py",
   "mimetype": "text/x-python",
   "name": "python",
   "nbconvert_exporter": "python",
   "pygments_lexer": "ipython3",
   "version": "3.8.5"
  }
 },
 "nbformat": 4,
 "nbformat_minor": 4
}
