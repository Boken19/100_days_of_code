{
 "cells": [
  {
   "cell_type": "markdown",
   "metadata": {},
   "source": [
    "## Probability Real Life Scenarios"
   ]
  },
  {
   "cell_type": "code",
   "execution_count": 36,
   "metadata": {},
   "outputs": [],
   "source": [
    "import numpy as np\n",
    "import pandas as pd\n",
    "import matplotlib.pyplot as plt"
   ]
  },
  {
   "cell_type": "markdown",
   "metadata": {},
   "source": [
    "**There are two dices, one who rolls 6 the highest 'Dice A' and the other rolls 8 the highest 'Dice B', if we roll both the dices together then what is the probability of Dice B rolling the bigger no. than Dice A.**"
   ]
  },
  {
   "cell_type": "code",
   "execution_count": 9,
   "metadata": {},
   "outputs": [
    {
     "data": {
      "text/plain": [
       "0.56292"
      ]
     },
     "execution_count": 9,
     "metadata": {},
     "output_type": "execute_result"
    }
   ],
   "source": [
    "result_list = []\n",
    "for _ in range(100000):\n",
    "    dice_A_roll = np.random.randint(1,7)\n",
    "    dice_B_roll = np.random.randint(1,9)\n",
    "    \n",
    "    if dice_A_roll < dice_B_roll:\n",
    "        result_list.append(1)\n",
    "    else:\n",
    "        result_list.append(0)\n",
    "np.array(result_list).mean()        "
   ]
  },
  {
   "cell_type": "markdown",
   "metadata": {},
   "source": [
    "**There are two dices, one who rolls 6 the highest 'Dice A' and the other rolls 8 the highest 'Dice B', if we roll both the dices together then what is the probability of Dice A and Dice B added to 10.**"
   ]
  },
  {
   "cell_type": "code",
   "execution_count": 12,
   "metadata": {},
   "outputs": [
    {
     "data": {
      "text/plain": [
       "0.08352"
      ]
     },
     "execution_count": 12,
     "metadata": {},
     "output_type": "execute_result"
    }
   ],
   "source": [
    "result_list = []\n",
    "for _ in range(100000):\n",
    "    dice_A_roll = np.random.randint(1,7)\n",
    "    dice_B_roll = np.random.randint(1,7)\n",
    "    \n",
    "    if dice_A_roll + dice_B_roll == 10:\n",
    "        result_list.append(1)\n",
    "    else:\n",
    "        result_list.append(0)\n",
    "np.array(result_list).mean()"
   ]
  },
  {
   "cell_type": "markdown",
   "metadata": {},
   "source": [
    "**A stock price is given at t0 time if we have to find the stock price at 'T th' time given if the probability of stocks going up is 0.6 at 2% rate and going down at 3% then find the probability of crossing the minimum price limit in T th time.**"
   ]
  },
  {
   "cell_type": "code",
   "execution_count": 17,
   "metadata": {},
   "outputs": [],
   "source": [
    "def s_direction(probability):\n",
    "    uni_random_num = np.random.uniform(low = 0, high = 1.0)\n",
    "    if uni_random_num < 0.6:\n",
    "        return 1\n",
    "    else:\n",
    "        return 0"
   ]
  },
  {
   "cell_type": "code",
   "execution_count": 31,
   "metadata": {},
   "outputs": [],
   "source": [
    "def get_stock_price_t10(s_price, probability, inc, dec, n_days):\n",
    "    list_of_direction = [s_direction(probability) for i in range(n_days)]\n",
    "    for i in list_of_direction:\n",
    "        if i == 1:\n",
    "             s_price *= inc\n",
    "        else:\n",
    "            s_price *= dec\n",
    "    return s_price"
   ]
  },
  {
   "cell_type": "code",
   "execution_count": 86,
   "metadata": {},
   "outputs": [],
   "source": [
    "possible_prices = np.array([get_stock_price_t10(s_price = 132, probability = 0.6, inc = 1.02, dec = 0.97, n_days = 10) for _ in range(10000)])\n"
   ]
  },
  {
   "cell_type": "code",
   "execution_count": 87,
   "metadata": {},
   "outputs": [
    {
     "data": {
      "text/html": [
       "<div>\n",
       "<style scoped>\n",
       "    .dataframe tbody tr th:only-of-type {\n",
       "        vertical-align: middle;\n",
       "    }\n",
       "\n",
       "    .dataframe tbody tr th {\n",
       "        vertical-align: top;\n",
       "    }\n",
       "\n",
       "    .dataframe thead th {\n",
       "        text-align: right;\n",
       "    }\n",
       "</style>\n",
       "<table border=\"1\" class=\"dataframe\">\n",
       "  <thead>\n",
       "    <tr style=\"text-align: right;\">\n",
       "      <th></th>\n",
       "      <th>0</th>\n",
       "    </tr>\n",
       "  </thead>\n",
       "  <tbody>\n",
       "    <tr>\n",
       "      <th>0</th>\n",
       "      <td>153.019652</td>\n",
       "    </tr>\n",
       "    <tr>\n",
       "      <th>1</th>\n",
       "      <td>131.601821</td>\n",
       "    </tr>\n",
       "    <tr>\n",
       "      <th>2</th>\n",
       "      <td>125.150751</td>\n",
       "    </tr>\n",
       "    <tr>\n",
       "      <th>3</th>\n",
       "      <td>138.385420</td>\n",
       "    </tr>\n",
       "    <tr>\n",
       "      <th>4</th>\n",
       "      <td>138.385420</td>\n",
       "    </tr>\n",
       "    <tr>\n",
       "      <th>...</th>\n",
       "      <td>...</td>\n",
       "    </tr>\n",
       "    <tr>\n",
       "      <th>9995</th>\n",
       "      <td>145.518689</td>\n",
       "    </tr>\n",
       "    <tr>\n",
       "      <th>9996</th>\n",
       "      <td>119.015911</td>\n",
       "    </tr>\n",
       "    <tr>\n",
       "      <th>9997</th>\n",
       "      <td>153.019652</td>\n",
       "    </tr>\n",
       "    <tr>\n",
       "      <th>9998</th>\n",
       "      <td>145.518689</td>\n",
       "    </tr>\n",
       "    <tr>\n",
       "      <th>9999</th>\n",
       "      <td>145.518689</td>\n",
       "    </tr>\n",
       "  </tbody>\n",
       "</table>\n",
       "<p>10000 rows × 1 columns</p>\n",
       "</div>"
      ],
      "text/plain": [
       "               0\n",
       "0     153.019652\n",
       "1     131.601821\n",
       "2     125.150751\n",
       "3     138.385420\n",
       "4     138.385420\n",
       "...          ...\n",
       "9995  145.518689\n",
       "9996  119.015911\n",
       "9997  153.019652\n",
       "9998  145.518689\n",
       "9999  145.518689\n",
       "\n",
       "[10000 rows x 1 columns]"
      ]
     },
     "execution_count": 87,
     "metadata": {},
     "output_type": "execute_result"
    }
   ],
   "source": [
    "pd.DataFrame(possible_prices)"
   ]
  },
  {
   "cell_type": "code",
   "execution_count": 88,
   "metadata": {},
   "outputs": [
    {
     "data": {
      "text/plain": [
       "0.1654"
      ]
     },
     "execution_count": 88,
     "metadata": {},
     "output_type": "execute_result"
    }
   ],
   "source": [
    "len([i for i in possible_prices if i > 143])/ len(possible_prices)"
   ]
  },
  {
   "cell_type": "code",
   "execution_count": 89,
   "metadata": {},
   "outputs": [
    {
     "data": {
      "image/png": "[encoded data removed]",
      "text/plain": [
       "<Figure size 432x288 with 1 Axes>"
      ]
     },
     "metadata": {
      "needs_background": "light"
     },
     "output_type": "display_data"
    }
   ],
   "source": [
    "plt.hist(pd.DataFrame(possible_prices))\n",
    "plt.show()"
   ]
  },
  {
   "cell_type": "code",
   "execution_count": null,
   "metadata": {},
   "outputs": [],
   "source": []
  },
  {
   "cell_type": "markdown",
   "metadata": {},
   "source": [
    "**There is a shipment coming and there are defects in that shipment we have a quality check section used to check the shipment. But we cannot check the whole shipment, we have to use a chunk to analyse that the shipment has any defected items or not so what should be the size of the chunk that 90% of the time we detect the defected shipment.**"
   ]
  },
  {
   "cell_type": "code",
   "execution_count": 80,
   "metadata": {},
   "outputs": [],
   "source": [
    "def shipment(N, N_D):\n",
    "    A = np.zeros(N)\n",
    "    A[:N_D] = 1\n",
    "    np.random.shuffle(A)\n",
    "    return A"
   ]
  },
  {
   "cell_type": "code",
   "execution_count": 78,
   "metadata": {},
   "outputs": [
    {
     "data": {
      "text/plain": [
       "array([0., 0., 0., 0., 0., 1., 0., 0., 0., 0., 0., 0., 1., 0., 0., 0., 0.,\n",
       "       0., 0., 0., 0., 1., 1., 0., 0., 0., 1., 1., 0., 0., 0., 0., 0., 0.,\n",
       "       0., 0., 0., 0., 0., 0., 0., 0., 0., 0., 1., 0., 0., 0., 0., 0., 0.,\n",
       "       0., 0., 0., 0., 0., 1., 0., 0., 0., 0., 0., 0., 0., 0., 1., 0., 0.,\n",
       "       0., 0., 0., 0., 1., 0., 0., 0., 0., 0., 0., 0., 0., 0., 0., 0., 0.,\n",
       "       0., 0., 0., 0., 0., 0., 0., 0., 0., 0., 0., 0., 0., 0., 0.])"
      ]
     },
     "execution_count": 78,
     "metadata": {},
     "output_type": "execute_result"
    }
   ],
   "source": [
    "shipment(100, 10)"
   ]
  },
  {
   "cell_type": "code",
   "execution_count": 79,
   "metadata": {},
   "outputs": [],
   "source": [
    "def qa_selection(N, Q_S):\n",
    "    A = np.zeros(N)\n",
    "    A[:Q_S] = 1\n",
    "    np.random.shuffle(A)\n",
    "    return A"
   ]
  },
  {
   "cell_type": "code",
   "execution_count": 50,
   "metadata": {},
   "outputs": [
    {
     "data": {
      "text/plain": [
       "array([0., 0., 0., 0., 0., 0., 0., 0., 0., 0., 0., 0., 0., 0., 0., 0., 0.,\n",
       "       0., 0., 0., 0., 0., 0., 0., 0., 0., 0., 1., 0., 0., 0., 0., 0., 0.,\n",
       "       1., 0., 0., 0., 0., 0., 0., 0., 0., 0., 1., 0., 0., 0., 0., 1.])"
      ]
     },
     "execution_count": 50,
     "metadata": {},
     "output_type": "execute_result"
    }
   ],
   "source": [
    "qa_selection(100, 4)"
   ]
  },
  {
   "cell_type": "code",
   "execution_count": 81,
   "metadata": {},
   "outputs": [],
   "source": [
    "def get_qc_success_prob(N, N_D, Q_S):\n",
    "    qc_success_list = []\n",
    "    for i in range(10000):\n",
    "        if np.multiply(shipment(N, N_D), qa_selection(N, Q_S)).sum() > 0:\n",
    "            qc_success_list.append(1)\n",
    "        else:\n",
    "            qc_success_list.append(0)\n",
    "    return np.array(qc_success_list).mean()"
   ]
  },
  {
   "cell_type": "code",
   "execution_count": 65,
   "metadata": {},
   "outputs": [
    {
     "data": {
      "text/plain": [
       "0.917"
      ]
     },
     "execution_count": 65,
     "metadata": {},
     "output_type": "execute_result"
    }
   ],
   "source": [
    "get_qc_success_prob(N = 100, N_D = 6, Q_S = 16)"
   ]
  },
  {
   "cell_type": "code",
   "execution_count": 69,
   "metadata": {},
   "outputs": [],
   "source": [
    "N = 100\n",
    "N_D = 6\n",
    "Q_S = 0\n",
    "qa_success_prob = 0\n",
    "while qa_success_prob < 0.9:\n",
    "    qa_success_prob = get_qc_success_prob(N, N_D, Q_S)\n",
    "    if qa_success_prob >= 0.9:\n",
    "        break\n",
    "    Q_S += 1"
   ]
  },
  {
   "cell_type": "code",
   "execution_count": 70,
   "metadata": {},
   "outputs": [
    {
     "data": {
      "text/plain": [
       "(0.9222, 16)"
      ]
     },
     "execution_count": 70,
     "metadata": {},
     "output_type": "execute_result"
    }
   ],
   "source": [
    "qa_success_prob, Q_S"
   ]
  },
  {
   "cell_type": "code",
   "execution_count": 84,
   "metadata": {},
   "outputs": [],
   "source": [
    "# using for loop\n",
    "N = 1000\n",
    "N_D = 60\n",
    "Q_S = 0\n",
    "qa_success_prob = 0\n",
    "dict_ = {}\n",
    "for Q_S in range(10, 30):\n",
    "    qa_success_prob = get_qc_success_prob(N, N_D, Q_S)\n",
    "    dict_[Q_S] = qa_success_prob"
   ]
  },
  {
   "cell_type": "code",
   "execution_count": 85,
   "metadata": {},
   "outputs": [
    {
     "data": {
      "text/plain": [
       "{10: 0.4561,\n",
       " 11: 0.4954,\n",
       " 12: 0.5214,\n",
       " 13: 0.5548,\n",
       " 14: 0.5901,\n",
       " 15: 0.6026,\n",
       " 16: 0.6305,\n",
       " 17: 0.6537,\n",
       " 18: 0.6802,\n",
       " 19: 0.6936,\n",
       " 20: 0.7118,\n",
       " 21: 0.7294,\n",
       " 22: 0.7599,\n",
       " 23: 0.7648,\n",
       " 24: 0.7729,\n",
       " 25: 0.7892,\n",
       " 26: 0.8056,\n",
       " 27: 0.8197,\n",
       " 28: 0.8263,\n",
       " 29: 0.8412}"
      ]
     },
     "execution_count": 85,
     "metadata": {},
     "output_type": "execute_result"
    }
   ],
   "source": [
    "dict_"
   ]
  },
  {
   "cell_type": "code",
   "execution_count": null,
   "metadata": {},
   "outputs": [],
   "source": []
  }
 ],
 "metadata": {
  "kernelspec": {
   "display_name": "Python 3",
   "language": "python",
   "name": "python3"
  },
  "language_info": {
   "codemirror_mode": {
    "name": "ipython",
    "version": 3
   },
   "file_extension": ".py",
   "mimetype": "text/x-python",
   "name": "python",
   "nbconvert_exporter": "python",
   "pygments_lexer": "ipython3",
   "version": "3.8.5"
  }
 },
 "nbformat": 4,
 "nbformat_minor": 4
}
