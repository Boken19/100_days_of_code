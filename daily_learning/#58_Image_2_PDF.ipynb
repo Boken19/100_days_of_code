{
 "cells": [
  {
   "cell_type": "code",
   "execution_count": 2,
   "metadata": {},
   "outputs": [
    {
     "name": "stdout",
     "output_type": "stream",
     "text": [
      "Collecting img2pdf\n",
      "  Downloading img2pdf-0.4.1-py3-none-any.whl (41 kB)\n",
      "Requirement already satisfied: Pillow in c:\\users\\sudeep dwivedi\\anaconda3\\lib\\site-packages (from img2pdf) (8.0.1)\n",
      "Collecting pikepdf\n",
      "  Downloading pikepdf-2.12.1-cp38-cp38-win_amd64.whl (2.4 MB)\n",
      "Requirement already satisfied: lxml>=4.0 in c:\\users\\sudeep dwivedi\\anaconda3\\lib\\site-packages (from pikepdf->img2pdf) (4.6.1)\n",
      "Installing collected packages: pikepdf, img2pdf\n",
      "Successfully installed img2pdf-0.4.1 pikepdf-2.12.1\n"
     ]
    }
   ],
   "source": [
    "!pip install img2pdf"
   ]
  },
  {
   "cell_type": "code",
   "execution_count": null,
   "metadata": {},
   "outputs": [],
   "source": [
    "!pip install pillow"
   ]
  },
  {
   "cell_type": "code",
   "execution_count": 5,
   "metadata": {},
   "outputs": [
    {
     "name": "stdout",
     "output_type": "stream",
     "text": [
      "Successfully made pdf file\n"
     ]
    }
   ],
   "source": [
    "import img2pdf\n",
    "from PIL import Image\n",
    "\n",
    "#storing image path\n",
    "img_path = 'Deadpool-Empire-Magazine.jpg'\n",
    "#storing pdf path\n",
    "pdf_path = 'test.pdf'\n",
    "\n",
    "#opening image\n",
    "image = Image.open(img_path)\n",
    "\n",
    "#converting into chunks using img2pdf\n",
    "pdf_bytes = img2pdf.convert(image.filename)\n",
    "\n",
    "#opening or creating pdf file\n",
    "file = open(pdf_path, 'wb')\n",
    "#writing pdf files with chunks\n",
    "file.write(pdf_bytes)\n",
    "#closing image file\n",
    "image.close()\n",
    "#closing pdf file\n",
    "file.close()\n",
    "\n",
    "#output\n",
    "print('Successfully made pdf file')"
   ]
  },
  {
   "cell_type": "code",
   "execution_count": null,
   "metadata": {},
   "outputs": [],
   "source": []
  }
 ],
 "metadata": {
  "kernelspec": {
   "display_name": "Python 3",
   "language": "python",
   "name": "python3"
  },
  "language_info": {
   "codemirror_mode": {
    "name": "ipython",
    "version": 3
   },
   "file_extension": ".py",
   "mimetype": "text/x-python",
   "name": "python",
   "nbconvert_exporter": "python",
   "pygments_lexer": "ipython3",
   "version": "3.8.5"
  }
 },
 "nbformat": 4,
 "nbformat_minor": 4
}
