{
 "cells": [
  {
   "cell_type": "markdown",
   "metadata": {},
   "source": [
    "## Interview Questions on EDA"
   ]
  },
  {
   "cell_type": "markdown",
   "metadata": {},
   "source": [
    "### 1. What is EDA and what are the steps taken usually to do this? "
   ]
  },
  {
   "cell_type": "markdown",
   "metadata": {},
   "source": [
    "- **Exploratory data analysis (EDA)** is used to analyze and investigate data sets to discover patterns, anomalies (outliers), and form hypotheses based on our understanding of the dataset. EDA involves generating summary statistics for numerical data in the dataset and creating various graphical representations to understand the data better.\n",
    "<br/><br/>\n",
    "- **Steps taken to do Exploratory Data Analysis:**\n",
    "    - **Gather data for analysis**: There are majorly two types of data sources, namely, public data and private data. Private data is associated with some security and privacy concerns, whereas public data is freely available to use without any restrictions on access or usage. There are many websites that provide access public data set available. And we can also use web scraping. Web Scraping is a process to fetch the data from a web page directly.\n",
    "    - **Preparation and cleaning of data**: In the cleaning process, the main objective is to remove irregularities from a data set. There are many ways to clean data, but the two most important approaches are treatment of missing values and outlier handling. There are many ways to deal with missing values, for example, removing an entire column or rows with missing values; however, it should not hamper the data with loss of information. The other method to deal with missing values is to just impute them with other values such as mean, median, mode or quantiles. The third method is to treat the missing values as a separate category.\n",
    "    - **Univariate analysis**: Univariate analysis involves the analysis of a single variable at a time. Now, there are multiple types of variables, such as categorical ordered and unordered variables, and numerical variables. A univariate analysis gives insights about a single variable and how it varies, and what the counts of each and every category in it are.\n",
    "    - **Bivariate and multivariate analysis**: Bivariate/multivariate analysis involves analysing two or more variables at the same time. These analyses yield very specific insights about a data set. You can infer various findings through bivariate analysis.\n",
    "    - **Data visualization**: Used to visualize the analysis done using univariate and multivariate analysis.\n",
    "    - **Identification of important variables**: So that we can drob the unwanted variables in the analysis, by this our task becomes easy.\n",
    "    - **Transform original variables**: Transform non-numeric values into numeric values.\n",
    "    - **Derive new variables**: prepare new variables using given data for further analysis."
   ]
  },
  {
   "cell_type": "markdown",
   "metadata": {},
   "source": [
    "### 2. Are missing values always missing due to chance alone?"
   ]
  },
  {
   "cell_type": "markdown",
   "metadata": {},
   "source": [
    "No, Because there are three types of missing values:<br/>\n",
    "    1) Missing Completely and Random — (MCAR).<br/>\n",
    "    2) Missing at Random — (MAR).<br/>\n",
    "    3) Missing Not at Random — (MNAR).<br/>"
   ]
  },
  {
   "cell_type": "markdown",
   "metadata": {},
   "source": [
    "1. **Missing Completely at Random (MCAR)**:\n",
    "    - There’s no relationship between whether a data point is missing and any values in the data set (missing or observed) .The missing data are just a random subset of the data . The missingness is nothing to do with any other variable . By the way , data are rarely MCAR.\n",
    "2. **Missing at Random (MAR)**:\n",
    "    - The missing data here is affected only by the complete (observed ) variables and not by the characteristics of the missing data itself. in other words , for a data point , to be missing is not related to the missing data, but it is related to some of ( or all ) the observed data.\n",
    "3. **Missing not at Random (MNAR)**:\n",
    "    - the data will be missing based on the missing column itself, it is impossible to detect MNAR cases without knowing the missing values !"
   ]
  },
  {
   "cell_type": "markdown",
   "metadata": {},
   "source": [
    "### 3. What is your approach to handle missing values?"
   ]
  },
  {
   "cell_type": "markdown",
   "metadata": {},
   "source": [
    "1. Drop the missing observations.\n",
    "2. Replace or impute the values with mean, median etc.\n",
    "3. Run predictive models to impute missing data.\n",
    "4. Create another level for missing categorical data."
   ]
  },
  {
   "cell_type": "markdown",
   "metadata": {},
   "source": [
    "### 4. Does a correlation coefficient of 0 between two numerical variables mean no relationship between them?"
   ]
  },
  {
   "cell_type": "markdown",
   "metadata": {},
   "source": [
    "- Correlation Coefficient:\n",
    "    - Measures the linear relationship of 2 variables.\n",
    "    - Ranges between -1 to +1\n",
    "        - +1 implies strong positive linear relationship\n",
    "        - -1 implies strong negative linear relationship\n",
    "        - 0 implies no linear relationship\n",
    "- So correlation coefficient of 0 does not mean no relationship between two variables, it just means there is no linear relationship between them."
   ]
  },
  {
   "cell_type": "markdown",
   "metadata": {},
   "source": [
    "### 5. It is always observed that more the number of ice creams sold in a city, higher are the number of murders in that city i.e. there seems to be a high correlation between the number of ice creams sold and the number of murders committed in a city. Can we say that because of the higher ice cream sales in the city there are higher murders?"
   ]
  },
  {
   "cell_type": "markdown",
   "metadata": {},
   "source": [
    "**Correlation vs Causation**\n",
    "- Correlation seeks to determine the linear relationship\n",
    "- Causation implies a cause and effect relationship\n",
    "- You can check other examples like this on a humorous website full of such coincidences called Spurious Correlations. "
   ]
  },
  {
   "cell_type": "markdown",
   "metadata": {},
   "source": [
    "### 6. How do we confirm causation between the variables?"
   ]
  },
  {
   "cell_type": "markdown",
   "metadata": {},
   "source": [
    "- Utilise Experimental studies or Observational studies\n",
    "- Experimental Studies:\n",
    "    - Assign people to two groups\n",
    "    - One group is given treatment\n",
    "    - Other group is not given any treatment\n",
    "- Observational Studies:\n",
    "    - Measure treatment effect without any intervention."
   ]
  },
  {
   "cell_type": "markdown",
   "metadata": {},
   "source": [
    "### 7. Given a pair of numeric variables with n observations, how would you visualize it? In what case would a line plot not be suitable?"
   ]
  },
  {
   "cell_type": "markdown",
   "metadata": {},
   "source": [
    "- Use scatterplot for 2 numerical variables\n",
    "- Use line plot\n",
    "    - Displays points connected by a line\n",
    "    - Data should be sequential"
   ]
  },
  {
   "cell_type": "markdown",
   "metadata": {},
   "source": [
    "### 8. While dealing with multi-dimensional data, how can we visualize more than two variables (say 3 or 4 variables) in two dimensions without using any dimensionality reduction techniques?"
   ]
  },
  {
   "cell_type": "markdown",
   "metadata": {},
   "source": [
    "- Use of scatter plot with colors for representing 3 variables.\n",
    "- If there are 4  variables we can distribute a category variable into subplots and then represent the remaining 3 variables in scatter subplots mentioned above.\n",
    "- We can also use heatmaps to represent 3 variables but first we have to turn them into a matrix form.\n",
    "- If there are n no. of columns then we have to use Dimensionality Reduction Techniques."
   ]
  },
  {
   "cell_type": "markdown",
   "metadata": {},
   "source": [
    "### 9. What are the different ways in which outliers can be handled?"
   ]
  },
  {
   "cell_type": "markdown",
   "metadata": {},
   "source": [
    "1. Dropping the outlier records as it may distort the distribution of data greatly. Dropping them would not make any difference.\n",
    "2. If for reasons best known in the business context we cannot remove an outlier, cap them.\n",
    "3. If the outlier is present due to an erroneous data entry, impute it.\n",
    "4. Transform the outlier data to be displayed for e.g. in percentile form to give a more reasonable analysis.\n",
    "5. Binning continuous variables"
   ]
  },
  {
   "cell_type": "markdown",
   "metadata": {},
   "source": [
    "### 10. What would you prefer as a measure of the variability of your data – standard deviation or the interquartile range (IQR)?"
   ]
  },
  {
   "cell_type": "markdown",
   "metadata": {},
   "source": [
    "1. The interquartile range (IQR) is not affected by extreme outliers. For example, an extremely small or extremely large value in a dataset will not affect the calculation of the IQR because the IQR only uses the values at the 25th percentile and 75th percentile of the dataset.\n",
    "2. The standard deviation is affected by extreme outliers. For example, an extremely large value in a dataset will cause the standard deviation to be much larger since the standard deviation uses every single value in a dataset in its formula.\n",
    "3. IQR is preferred in data containing extreme values.\n",
    "4. If extreme values are not present, use Standard Deviation."
   ]
  }
 ],
 "metadata": {
  "kernelspec": {
   "display_name": "Python 3",
   "language": "python",
   "name": "python3"
  },
  "language_info": {
   "codemirror_mode": {
    "name": "ipython",
    "version": 3
   },
   "file_extension": ".py",
   "mimetype": "text/x-python",
   "name": "python",
   "nbconvert_exporter": "python",
   "pygments_lexer": "ipython3",
   "version": "3.8.5"
  }
 },
 "nbformat": 4,
 "nbformat_minor": 4
}
