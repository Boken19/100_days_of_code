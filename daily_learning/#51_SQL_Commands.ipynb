{
 "cells": [
  {
   "cell_type": "markdown",
   "metadata": {},
   "source": [
    "## SQL (Structured Query Language)\n",
    "DDL Commands:<br/>\n",
    "1. Create: To create database and tables<br/>\n",
    "    syntax: create database database_name; (Only used once in a database life cycle)<br/>\n",
    "    create table table_name; (Attribute1, Attribute2...) (To create table in database)<br/><br/>\n",
    "2. Alter: It is used to add, delete and modify columns in an existing table.<br/>\n",
    "    a. Add Column:<br/>\n",
    "        syntax: alter table table_name add column_name data_type;<br/>\n",
    "    b. Add Constraint:<br/>\n",
    "        syntax: alter table_name add constraint primary key (Column_name);<br/><br/>\n",
    "3. Insert: To insert values in the table<br/>\n",
    "    syntax: insert into table_name (Attribute1, Attribute2...) values (value1, value2...);<br/><br/>\n",
    "4. Update: To update the values in the table<br/>\n",
    "    syntax: update table_name set column_name = value where column_name = value;<br/><br/>\n",
    "5. Delete: To delete columns, tables and values.<br/>\n",
    "    syntax: delete from table_name where column_name = value;<br/><br/>\n",
    "6. Drop: To drop table and databases. And there is no going back after dropping it.<br/>\n",
    "    syntax: drop table_name or drop database_name;<br/>\n",
    "\n"
   ]
  },
  {
   "cell_type": "code",
   "execution_count": null,
   "metadata": {},
   "outputs": [],
   "source": []
  }
 ],
 "metadata": {
  "kernelspec": {
   "display_name": "Python 3",
   "language": "python",
   "name": "python3"
  },
  "language_info": {
   "codemirror_mode": {
    "name": "ipython",
    "version": 3
   },
   "file_extension": ".py",
   "mimetype": "text/x-python",
   "name": "python",
   "nbconvert_exporter": "python",
   "pygments_lexer": "ipython3",
   "version": "3.8.5"
  }
 },
 "nbformat": 4,
 "nbformat_minor": 4
}
