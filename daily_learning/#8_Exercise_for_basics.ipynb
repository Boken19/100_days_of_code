{
 "cells": [
  {
   "cell_type": "markdown",
   "metadata": {},
   "source": [
    "### Write a   program to accept ‘n’ numbers from user , store these numbers into an array.\n",
    "### Find out maximum and minimum number from an Array."
   ]
  },
  {
   "cell_type": "code",
   "execution_count": 8,
   "metadata": {},
   "outputs": [
    {
     "name": "stdout",
     "output_type": "stream",
     "text": [
      "How many no. users want to input: 5\n",
      "Enter a number: 21\n",
      "Enter a number: 30\n",
      "Enter a number: 33\n",
      "Enter a number: 17\n",
      "Enter a number: 18\n",
      "33\n",
      "17\n"
     ]
    }
   ],
   "source": [
    "n = int(input('How many no. users want to input: '))\n",
    "arr = []\n",
    "for i in range(0,n):\n",
    "    arr.append(int(input('Enter a number: ')))\n",
    "print(max(arr))\n",
    "print(min(arr))"
   ]
  },
  {
   "cell_type": "markdown",
   "metadata": {},
   "source": [
    "### Write a  program to accept ‘n’ numbers from user ,\n",
    "### store these numbers into an array and sort the numbers of an array using function."
   ]
  },
  {
   "cell_type": "code",
   "execution_count": 11,
   "metadata": {},
   "outputs": [
    {
     "name": "stdout",
     "output_type": "stream",
     "text": [
      "How many no. users want to input: 5\n",
      "Enter a number: 1\n",
      "Enter a number: 4\n",
      "Enter a number: 2\n",
      "Enter a number: 5\n",
      "Enter a number: 3\n",
      "[1, 2, 3, 4, 5]\n"
     ]
    }
   ],
   "source": [
    "n = int(input('How many no. users want to input: '))\n",
    "arr = []\n",
    "for i in range(n):\n",
    "    arr.append(int(input('Enter a number: ')))\n",
    "print(sorted(arr))"
   ]
  },
  {
   "cell_type": "markdown",
   "metadata": {},
   "source": [
    "### Write a program to swap the values of two variables using Call by Reference."
   ]
  },
  {
   "cell_type": "code",
   "execution_count": 15,
   "metadata": {},
   "outputs": [
    {
     "name": "stdout",
     "output_type": "stream",
     "text": [
      "Enter the value of x: code\n",
      "Enter the value of y: python\n",
      "Swapped values x= python and y= code\n"
     ]
    }
   ],
   "source": [
    "def swap(x,y):\n",
    "    temp = x\n",
    "    x = y\n",
    "    y = temp\n",
    "    print(f'Swapped values x= {x} and y= {y}')\n",
    "x = input('Enter the value of x: ')\n",
    "y = input('Enter the value of y: ')\n",
    "swap(x,y)"
   ]
  },
  {
   "cell_type": "code",
   "execution_count": null,
   "metadata": {},
   "outputs": [],
   "source": []
  }
 ],
 "metadata": {
  "kernelspec": {
   "display_name": "Python 3",
   "language": "python",
   "name": "python3"
  },
  "language_info": {
   "codemirror_mode": {
    "name": "ipython",
    "version": 3
   },
   "file_extension": ".py",
   "mimetype": "text/x-python",
   "name": "python",
   "nbconvert_exporter": "python",
   "pygments_lexer": "ipython3",
   "version": "3.8.5"
  }
 },
 "nbformat": 4,
 "nbformat_minor": 4
}
