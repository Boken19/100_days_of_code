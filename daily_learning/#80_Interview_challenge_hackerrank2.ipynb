{
 "cells": [
  {
   "cell_type": "markdown",
   "metadata": {},
   "source": [
    "**An avid hiker keeps meticulous records of their hikes. During the last hike that took exactly  steps, for every step it was noted if it was an uphill, U, or a downhill, D step. Hikes always start and end at sea level, and each step up or down represents a 1 unit change in altitude. We define the following terms:**\n",
    "\n",
    "- A mountain is a sequence of consecutive steps above sea level, starting with a step up from sea level and ending with a step down to sea level.\n",
    "- A valley is a sequence of consecutive steps below sea level, starting with a step down from sea level and ending with a step up to sea level.\n",
    "- Given the sequence of up and down steps during a hike, find and print the number of valleys walked through."
   ]
  },
  {
   "cell_type": "code",
   "execution_count": 8,
   "metadata": {},
   "outputs": [
    {
     "name": "stdout",
     "output_type": "stream",
     "text": [
      "enter the no. of steps: 12\n",
      "DDUUDDUDUUUD\n",
      "The hiker enters and leaves 2 valleys.\n"
     ]
    }
   ],
   "source": [
    "def countingValleys(steps, path):\n",
    "    valley = 0\n",
    "    level = 0\n",
    "    if len(path) == steps:\n",
    "        for step in path:\n",
    "            if(step == 'U'):\n",
    "                level += 1\n",
    "                if(level == 0):\n",
    "                    valley += 1\n",
    "            elif(step == 'D'):\n",
    "                level -= 1\n",
    "        return ('The hiker enters and leaves {} valleys.'.format(valley))\n",
    "    else:\n",
    "        return 'Please enter correct steps.'\n",
    "\n",
    "steps = int(input('enter the no. of steps: '))\n",
    "path = input()\n",
    "result = countingValleys(steps, path)\n",
    "print(result)"
   ]
  },
  {
   "cell_type": "code",
   "execution_count": null,
   "metadata": {},
   "outputs": [],
   "source": []
  },
  {
   "cell_type": "code",
   "execution_count": null,
   "metadata": {},
   "outputs": [],
   "source": []
  }
 ],
 "metadata": {
  "kernelspec": {
   "display_name": "Python 3",
   "language": "python",
   "name": "python3"
  },
  "language_info": {
   "codemirror_mode": {
    "name": "ipython",
    "version": 3
   },
   "file_extension": ".py",
   "mimetype": "text/x-python",
   "name": "python",
   "nbconvert_exporter": "python",
   "pygments_lexer": "ipython3",
   "version": "3.8.5"
  }
 },
 "nbformat": 4,
 "nbformat_minor": 4
}
