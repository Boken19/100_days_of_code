{
 "cells": [
  {
   "cell_type": "markdown",
   "metadata": {},
   "source": [
    "### Rolling the dice"
   ]
  },
  {
   "cell_type": "code",
   "execution_count": 3,
   "metadata": {},
   "outputs": [
    {
     "name": "stdout",
     "output_type": "stream",
     "text": [
      "Rolling the dice...\n",
      "The number is...\n",
      "5\n",
      "y\n",
      "Rolling the dice...\n",
      "The number is...\n",
      "2\n",
      "yes\n",
      "Rolling the dice...\n",
      "The number is...\n",
      "4\n",
      "n\n"
     ]
    }
   ],
   "source": [
    "from random import randint\n",
    "max = 6\n",
    "min = 1\n",
    "roll_again = \"yes\"\n",
    "while roll_again == 'yes' or roll_again == 'y':\n",
    "    print('Rolling the dice...')\n",
    "    print('The number is...')\n",
    "    dice = randint(min, max)\n",
    "    print(dice)\n",
    "    roll_again = input()\n",
    "    "
   ]
  }
 ],
 "metadata": {
  "kernelspec": {
   "display_name": "Python 3",
   "language": "python",
   "name": "python3"
  },
  "language_info": {
   "codemirror_mode": {
    "name": "ipython",
    "version": 3
   },
   "file_extension": ".py",
   "mimetype": "text/x-python",
   "name": "python",
   "nbconvert_exporter": "python",
   "pygments_lexer": "ipython3",
   "version": "3.8.5"
  }
 },
 "nbformat": 4,
 "nbformat_minor": 4
}
