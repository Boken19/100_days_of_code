{
 "cells": [
  {
   "cell_type": "code",
   "execution_count": 3,
   "metadata": {},
   "outputs": [
    {
     "name": "stdout",
     "output_type": "stream",
     "text": [
      "-f C:\\Users\\Sudeep Dwivedi\\AppData\\Roaming\\jupyter\\runtime\\kernel-39adc0ab-6017-43e6-ae9d-3a4b8292a5ef.json\n"
     ]
    }
   ],
   "source": [
    "#! python3\n",
    "# mapIt.py - Launches a map in the browser using an address from the\n",
    "# command line or clipboard.\n",
    "\n",
    "import webbrowser, sys, pyperclip\n",
    "\n",
    "if len(sys.argv) > 1:\n",
    "    # Get address from command line.\n",
    "    address = ' '.join(sys.argv[1:])\n",
    "else:\n",
    "    # Get address from clipboard.\n",
    "    address = pyperclip.paste()\n",
    "webbrowser.open('https://www.google.com/maps/place/' + address)"
   ]
  },
  {
   "cell_type": "code",
   "execution_count": 4,
   "metadata": {},
   "outputs": [],
   "source": [
    "import datetime as dt\n",
    "#Today's day according to your computer\n",
    "today = dt.date.today()\n",
    "\n",
    "# Any birthdate expressed as year, month, day\n",
    "birthdate = dt.date(1996, 2, 19)\n",
    "\n",
    "# Duration between the dates as a timedaelta\n",
    "delta_age = (today - birthdate)\n",
    "\n",
    "# Duration between the dates as a number (of days)\n",
    "days_old = delta_age.days\n",
    "\n",
    "# Floor divide days by 365 to get the number of years\n",
    "years = days_old // 365\n",
    "\n",
    "# Days left over is remainder of days_old divided by 365.\n",
    "# Floor divide that remainder by 30 for approximate months.\n",
    "months = (days_old % 365) // 30\n",
    "\n",
    "#Print in a format to your liking \n",
    "print(f'You are {years} years')"
   ]
  },
  {
   "cell_type": "code",
   "execution_count": null,
   "metadata": {},
   "outputs": [],
   "source": []
  }
 ],
 "metadata": {
  "kernelspec": {
   "display_name": "Python 3",
   "language": "python",
   "name": "python3"
  },
  "language_info": {
   "codemirror_mode": {
    "name": "ipython",
    "version": 3
   },
   "file_extension": ".py",
   "mimetype": "text/x-python",
   "name": "python",
   "nbconvert_exporter": "python",
   "pygments_lexer": "ipython3",
   "version": "3.8.5"
  }
 },
 "nbformat": 4,
 "nbformat_minor": 4
}
