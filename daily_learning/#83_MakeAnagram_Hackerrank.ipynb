{
 "cells": [
  {
   "cell_type": "markdown",
   "metadata": {},
   "source": [
    "**A student is taking a cryptography class and has found anagrams to be very useful. Two strings are anagrams of each other if the first string's letters can be rearranged to form the second string. In other words, both strings must contain the same exact letters in the same exact frequency. For example, bacdc and dcbac are anagrams, but bacdc and dcbad are not.\n",
    "The student decides on an encryption scheme that involves two large strings. The encryption is dependent on the minimum number of character deletions required to make the two strings anagrams. Determine this number.\n",
    "Given two strings, a and b, that may or may not be of the same length, determine the minimum number of character deletions required to make a and b anagrams. Any characters can be deleted from either of the strings.**"
   ]
  },
  {
   "cell_type": "code",
   "execution_count": 3,
   "metadata": {},
   "outputs": [
    {
     "name": "stdout",
     "output_type": "stream",
     "text": [
      "Enter first string: jxwtrhvujlmrpdoqbisbwhmgpmeoke\n",
      "Enter second string: fcrxzwscanmligyxyvym\n",
      "The no. of deletions to make anagram are: 30\n"
     ]
    }
   ],
   "source": [
    "import string\n",
    "def makeAnagram(a, b):\n",
    "    # Write your code here\n",
    "    letter_count1 = dict.fromkeys(string.ascii_lowercase, 0)\n",
    "    letter_count2 = dict.fromkeys(string.ascii_lowercase, 0)\n",
    "    for i in a:\n",
    "        if i in letter_count1.keys():\n",
    "            letter_count1[i] += 1\n",
    "    for j in b:\n",
    "        if j in letter_count2.keys():\n",
    "            letter_count2[j] += 1\n",
    "    deletion = 0 \n",
    "    for i in letter_count1:\n",
    "        deletion += abs(letter_count1[i] - letter_count2[i])\n",
    "    return deletion\n",
    "\n",
    "a = input('Enter first string: ')\n",
    "b = input('Enter second string: ')\n",
    "res = makeAnagram(a, b)\n",
    "print(f'The no. of deletions to make anagram are: {res}')"
   ]
  },
  {
   "cell_type": "code",
   "execution_count": 4,
   "metadata": {},
   "outputs": [
    {
     "name": "stdout",
     "output_type": "stream",
     "text": [
      "Enter first string: cde\n",
      "Enter second string: abc\n",
      "The no. of deletions to make anagram are: 4\n"
     ]
    }
   ],
   "source": [
    "a = input('Enter first string: ')\n",
    "b = input('Enter second string: ')\n",
    "res = makeAnagram(a, b)\n",
    "print(f'The no. of deletions to make anagram are: {res}')"
   ]
  },
  {
   "cell_type": "code",
   "execution_count": null,
   "metadata": {},
   "outputs": [],
   "source": []
  }
 ],
 "metadata": {
  "kernelspec": {
   "display_name": "Python 3",
   "language": "python",
   "name": "python3"
  },
  "language_info": {
   "codemirror_mode": {
    "name": "ipython",
    "version": 3
   },
   "file_extension": ".py",
   "mimetype": "text/x-python",
   "name": "python",
   "nbconvert_exporter": "python",
   "pygments_lexer": "ipython3",
   "version": "3.8.5"
  }
 },
 "nbformat": 4,
 "nbformat_minor": 4
}
