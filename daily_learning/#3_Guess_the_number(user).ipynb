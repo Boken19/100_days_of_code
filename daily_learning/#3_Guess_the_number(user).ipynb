{
 "cells": [
  {
   "cell_type": "code",
   "execution_count": 2,
   "metadata": {},
   "outputs": [
    {
     "name": "stdout",
     "output_type": "stream",
     "text": [
      "Is guess 8too high press 'H', too low press 'L' or correct press 'C' c\n",
      "The computer guessed your no. 8 correctly!!!\n"
     ]
    }
   ],
   "source": [
    "#In this program the computer is guessing the no. selected by the user\n",
    "#import the random library to generate the random no.'s\n",
    "from random import randint\n",
    "#define the function for the computer to guess\n",
    "def computer_guess(x):\n",
    "    low = 1 #To check the lower value\n",
    "    high = x #To check the higher value\n",
    "    feedback = '' #initialising the string\n",
    "    while feedback != 'c': #to iterate the guess no. so we can reach to the correct no.\n",
    "        if low != high: #check this b/c if this condition satisfy, we have found the correct no.\n",
    "            guess = randint(low, high)\n",
    "        else:\n",
    "            guess = low #could be high b/c low= high\n",
    "        feedback = input(f\"Is guess {guess}too high press 'H', too low press 'L' or correct press 'C' \") \n",
    "        #input from the user so that the user can tell if the no. is correctly guessed or not.\n",
    "        if feedback == 'h':\n",
    "            high = guess - 1 #if the no. is high, decrease the no.\n",
    "        elif feedback == 'l':\n",
    "            low = guess + 1 #if the no. is low, increase the no.\n",
    "    print(f\"The computer guessed your no. {guess} correctly!!!\")\n",
    "    \n",
    "computer_guess(10) #declare the function with a argument\n",
    "\n"
   ]
  },
  {
   "cell_type": "code",
   "execution_count": null,
   "metadata": {},
   "outputs": [],
   "source": []
  }
 ],
 "metadata": {
  "kernelspec": {
   "display_name": "Python 3",
   "language": "python",
   "name": "python3"
  },
  "language_info": {
   "codemirror_mode": {
    "name": "ipython",
    "version": 3
   },
   "file_extension": ".py",
   "mimetype": "text/x-python",
   "name": "python",
   "nbconvert_exporter": "python",
   "pygments_lexer": "ipython3",
   "version": "3.8.5"
  }
 },
 "nbformat": 4,
 "nbformat_minor": 4
}
