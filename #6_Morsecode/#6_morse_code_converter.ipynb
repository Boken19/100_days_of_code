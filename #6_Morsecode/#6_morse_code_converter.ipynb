{
 "cells": [
  {
   "cell_type": "code",
   "execution_count": 3,
   "metadata": {},
   "outputs": [
    {
     "name": "stdout",
     "output_type": "stream",
     "text": [
      "Your word: boken\n",
      "-... --- -.- . -. \n"
     ]
    }
   ],
   "source": [
    "from morse_code import morse\n",
    "word = input(\"Your word: \")\n",
    "\n",
    "morse_word = \"\"\n",
    "for char in word.upper():\n",
    "    if char == \" \":\n",
    "        morse_word += \"   \"\n",
    "    else:\n",
    "        if char not in morse:\n",
    "            continue          # continue with next char, go back to for\n",
    "        morse_word += morse[char] + \" \"\n",
    "\n",
    "print(morse_word)"
   ]
  },
  {
   "cell_type": "code",
   "execution_count": null,
   "metadata": {},
   "outputs": [],
   "source": []
  }
 ],
 "metadata": {
  "kernelspec": {
   "display_name": "Python 3",
   "language": "python",
   "name": "python3"
  },
  "language_info": {
   "codemirror_mode": {
    "name": "ipython",
    "version": 3
   },
   "file_extension": ".py",
   "mimetype": "text/x-python",
   "name": "python",
   "nbconvert_exporter": "python",
   "pygments_lexer": "ipython3",
   "version": "3.8.5"
  }
 },
 "nbformat": 4,
 "nbformat_minor": 4
}
