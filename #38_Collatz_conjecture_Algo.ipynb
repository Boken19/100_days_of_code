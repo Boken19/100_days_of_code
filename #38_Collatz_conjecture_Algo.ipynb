{
 "cells": [
  {
   "cell_type": "markdown",
   "metadata": {},
   "source": [
    "### The Collatz conjecture is a conjecture in mathematics that concerns sequences defined as follows: \n",
    "start with any positive integer n. Then each term is obtained from the previous term as follows: \n",
    "if the previous term is even, the next term is one half of the previous term. \n",
    "If the previous term is odd, the next term is 3 times the previous term plus 1. \n",
    "The conjecture is that no matter what value of n, \n",
    "the sequence will always reach 1."
   ]
  },
  {
   "cell_type": "code",
   "execution_count": 7,
   "metadata": {},
   "outputs": [
    {
     "name": "stdout",
     "output_type": "stream",
     "text": [
      "1\n",
      "7\n",
      "2\n",
      "5\n",
      "8\n"
     ]
    }
   ],
   "source": [
    "def collatzRecur(curNum, count=0):\n",
    "    '''This recursively solves the Collatz Conjecture'''\n",
    "    if curNum<=1:#Base case\n",
    "        return count\n",
    "    if curNum%2==0:\n",
    "        return collatzRecur(curNum/2, count+1)\n",
    "    else:\n",
    "        return collatzRecur(curNum*3+1, count+1)\n",
    "\n",
    "#Some tests\n",
    "print(collatzRecur(2)) #1\n",
    "print(collatzRecur(3)) #7\n",
    "print(collatzRecur(4)) #2\n",
    "print(collatzRecur(5)) #5\n",
    "print(collatzRecur(6)) #8"
   ]
  },
  {
   "cell_type": "code",
   "execution_count": null,
   "metadata": {},
   "outputs": [],
   "source": []
  }
 ],
 "metadata": {
  "kernelspec": {
   "display_name": "Python 3",
   "language": "python",
   "name": "python3"
  },
  "language_info": {
   "codemirror_mode": {
    "name": "ipython",
    "version": 3
   },
   "file_extension": ".py",
   "mimetype": "text/x-python",
   "name": "python",
   "nbconvert_exporter": "python",
   "pygments_lexer": "ipython3",
   "version": "3.8.5"
  }
 },
 "nbformat": 4,
 "nbformat_minor": 4
}
