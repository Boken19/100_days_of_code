{
 "cells": [
  {
   "cell_type": "markdown",
   "metadata": {},
   "source": [
    "**Q. You are given a 2-D array with dimensions N X M.\n",
    "Your task is to perform the min function over axis 1 and then find the max of that.**"
   ]
  },
  {
   "cell_type": "code",
   "execution_count": 1,
   "metadata": {},
   "outputs": [],
   "source": [
    "import numpy"
   ]
  },
  {
   "cell_type": "code",
   "execution_count": 7,
   "metadata": {},
   "outputs": [
    {
     "name": "stdout",
     "output_type": "stream",
     "text": [
      "Enter NxM array: 4 2\n",
      "input 1 of the array: 2 5\n",
      "input 2 of the array: 3 7\n",
      "input 3 of the array: 1 4\n",
      "input 4 of the array: 8 0\n",
      "Maximum of minimum array at axis 1 is:  3\n"
     ]
    }
   ],
   "source": [
    "n, m = map(int,input('Enter NxM array: ').split())\n",
    "list1=[list(map(int,input(f'input {i+1} of the array: ').split())) for i in range(n)]\n",
    "\n",
    "ar=numpy.array(list1)\n",
    "\n",
    "print('Maximum of minimum array at axis 1 is: ', max(numpy.min(ar,axis=1)))\n"
   ]
  },
  {
   "cell_type": "markdown",
   "metadata": {},
   "source": [
    "**Q. You are given a 2-D array of size NXM.**<br/>\n",
    "Your task is to find:\n",
    "\n",
    "1. The mean along axis 1\n",
    "2. The var along axis 0\n",
    "3. The std along axis None"
   ]
  },
  {
   "cell_type": "code",
   "execution_count": 9,
   "metadata": {},
   "outputs": [
    {
     "name": "stdout",
     "output_type": "stream",
     "text": [
      "Enter NxM array: 2 2\n",
      "input 1 of the array: 1 2\n",
      "input 2 of the array: 3 4\n",
      "[1.5 3.5]\n",
      "[1. 1.]\n",
      "1.11803398875\n"
     ]
    }
   ],
   "source": [
    "import numpy as np\n",
    "n, m = map(int, input('Enter NxM array: ').split())\n",
    "k = np.array([input(f'input {i+1} of the array: ').split() for i in range(n)],dtype = int)\n",
    "print(np.mean(k,axis=1), np.var(k,axis=0), round(np.std(k),11), sep='\\n')"
   ]
  },
  {
   "cell_type": "code",
   "execution_count": null,
   "metadata": {},
   "outputs": [],
   "source": []
  }
 ],
 "metadata": {
  "kernelspec": {
   "display_name": "Python 3",
   "language": "python",
   "name": "python3"
  },
  "language_info": {
   "codemirror_mode": {
    "name": "ipython",
    "version": 3
   },
   "file_extension": ".py",
   "mimetype": "text/x-python",
   "name": "python",
   "nbconvert_exporter": "python",
   "pygments_lexer": "ipython3",
   "version": "3.8.5"
  }
 },
 "nbformat": 4,
 "nbformat_minor": 4
}
